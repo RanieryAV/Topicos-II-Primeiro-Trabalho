{
 "cells": [
  {
   "cell_type": "code",
   "execution_count": 19,
   "id": "673e0b59",
   "metadata": {},
   "outputs": [],
   "source": [
    "import pandas as pd\n",
    "import random\n"
   ]
  },
  {
   "cell_type": "code",
   "execution_count": null,
   "id": "6d4adeae",
   "metadata": {},
   "outputs": [],
   "source": []
  },
  {
   "cell_type": "code",
   "execution_count": 20,
   "id": "d1b5e55d",
   "metadata": {},
   "outputs": [
    {
     "name": "stdout",
     "output_type": "stream",
     "text": [
      "[13, 334, 272, 249, 74, 188, 186, 77, 263, 323, 100, 132, 132, 461, 10, 260, 434, 563, 874, 581, 84, 743, 820, 42, 949, 37, 936, 424, 39]\n"
     ]
    }
   ],
   "source": [
    "# Crie uma lista vazia para armazenar os números\n",
    "numeros = []\n",
    "\n",
    "# Abra o arquivo .dat em modo de leitura (substitua 'seuarquivo.dat' pelo caminho do seu arquivo)\n",
    "with open('pph_13_01.dat', 'r') as arquivo:\n",
    "    # Leia cada linha do arquivo\n",
    "    for linha in arquivo:\n",
    "        # Divida a linha em palavras usando espaços em branco como delimitadores\n",
    "        palavras = linha.split()\n",
    "        # Processa cada palavra e a converte em um número (neste exemplo, como float)\n",
    "        for palavra in palavras:\n",
    "            try:\n",
    "                numero = float(palavra)\n",
    "                numeros.append(int(numero))\n",
    "            except ValueError:\n",
    "                # Ignora palavras que não podem ser convertidas em números\n",
    "                pass\n",
    "\n",
    "# Exibe a lista de números lidos do arquivo\n",
    "print(numeros)\n"
   ]
  },
  {
   "cell_type": "code",
   "execution_count": 21,
   "id": "a8985718",
   "metadata": {},
   "outputs": [],
   "source": [
    "N = numeros[0]\n",
    "num = [[numeros[i],numeros[i+int((len(numeros)-1)/2)]] for i in range(1,len(numeros)) if i<=(len(numeros)-1)/2 ]"
   ]
  },
  {
   "cell_type": "code",
   "execution_count": 22,
   "id": "1be653df",
   "metadata": {},
   "outputs": [
    {
     "data": {
      "text/plain": [
       "[[334, 260],\n",
       " [272, 434],\n",
       " [249, 563],\n",
       " [74, 874],\n",
       " [188, 581],\n",
       " [186, 84],\n",
       " [77, 743],\n",
       " [263, 820],\n",
       " [323, 42],\n",
       " [100, 949],\n",
       " [132, 37],\n",
       " [132, 936],\n",
       " [461, 424],\n",
       " [10, 39]]"
      ]
     },
     "execution_count": 22,
     "metadata": {},
     "output_type": "execute_result"
    }
   ],
   "source": [
    "num"
   ]
  },
  {
   "cell_type": "code",
   "execution_count": 275,
   "id": "d981812c",
   "metadata": {},
   "outputs": [],
   "source": []
  },
  {
   "cell_type": "code",
   "execution_count": null,
   "id": "ab5432c1",
   "metadata": {},
   "outputs": [],
   "source": []
  },
  {
   "cell_type": "markdown",
   "id": "ceefa7eb",
   "metadata": {},
   "source": [
    "# Notas"
   ]
  },
  {
   "cell_type": "markdown",
   "id": "2a2e5d15",
   "metadata": {},
   "source": [
    "se a/b > A/B -> (A+a)/(B+b) > A/B"
   ]
  },
  {
   "cell_type": "markdown",
   "id": "118ebf5a",
   "metadata": {},
   "source": [
    "mas, aparentemente, se x/y > r/s > A/B, não necessariamente, (A+x)/(A+y) > (A+r)/(B+s)\n",
    "exemplo A/B = 1/10, x/y = 2/1 e r/s = 8/5"
   ]
  },
  {
   "cell_type": "code",
   "execution_count": null,
   "id": "df4c1be6",
   "metadata": {},
   "outputs": [],
   "source": []
  },
  {
   "cell_type": "code",
   "execution_count": null,
   "id": "5f7d093c",
   "metadata": {},
   "outputs": [],
   "source": []
  },
  {
   "cell_type": "code",
   "execution_count": null,
   "id": "c7b4a8f8",
   "metadata": {},
   "outputs": [],
   "source": []
  },
  {
   "cell_type": "code",
   "execution_count": null,
   "id": "79980db0",
   "metadata": {},
   "outputs": [],
   "source": []
  },
  {
   "cell_type": "code",
   "execution_count": null,
   "id": "cd39656c",
   "metadata": {},
   "outputs": [],
   "source": []
  },
  {
   "cell_type": "markdown",
   "id": "a73057ff",
   "metadata": {},
   "source": [
    "# Complexidade O(N<sup>2</sup>)"
   ]
  },
  {
   "cell_type": "code",
   "execution_count": 123,
   "id": "500b7412",
   "metadata": {},
   "outputs": [],
   "source": [
    "def PPH(num,N):\n",
    "    S = []\n",
    "    num_s = []\n",
    "    S.append(0)\n",
    "    num_s.append(num[0])\n",
    "    \n",
    "    #xxxxxxxxxxxxxxxxxxxxxxxx\n",
    "    \n",
    "    q=num[0][0]/num[0][1]\n",
    "    prim = num[0][0]\n",
    "    sec = num[0][1]\n",
    "    R_ = q\n",
    "    print(num_s,\"---\",S,R_)\n",
    "    \n",
    "    #xxxxxxxxxxxxxxxxxxxxxxx\n",
    "    for i in range(1,len(num)):\n",
    "        q = num[i][0]/num[i][1]\n",
    "        if q>R_:         #if q>(prim+num[i][0])/(sec+num[i][1]):\n",
    "            S.append(i)\n",
    "            num_s.append(num[i])\n",
    "            prim += num[i][0]\n",
    "            sec += num[i][1]\n",
    "            R_ = prim/sec\n",
    "            print(num_s,\"---\",\"q: \",q,\"--- S:\",S,\"R_: \",R_)\n",
    "         \n",
    "        \n",
    "    aux = True\n",
    "    h = 0\n",
    "    print(\"Hello, bitches\")\n",
    "    while aux:\n",
    "        aux = False\n",
    "        h += 1\n",
    "        print(f\"i: {h}, {aux}\")\n",
    "        for i in range(1, len(S)):\n",
    "            if S[i] != None:\n",
    "                q = num[S[i]][0]/num[S[i]][1]\n",
    "                if q<=R_:\n",
    "                    aux = True\n",
    "                    \n",
    "                    prim -= num[S[i]][0]\n",
    "                    sec -= num[S[i]][1]\n",
    "                    S[i] = None\n",
    "                    R_ = prim/sec\n",
    "                    print(f\"Remoção de {num_s[i]}\", \"----- R_: \",R_)\n",
    "\n",
    "\n",
    "    new = [num[u] for u in S if u!=None]\n",
    "    S = [u for u in S if u!=None]\n",
    "    return S,new,R_\n",
    "\n",
    "        \n",
    "        "
   ]
  },
  {
   "cell_type": "code",
   "execution_count": 131,
   "id": "80f9ad5c",
   "metadata": {},
   "outputs": [
    {
     "name": "stdout",
     "output_type": "stream",
     "text": [
      "[[334, 260]] --- [0] 1.2846153846153847\n",
      "[[334, 260], [323, 42]] --- q:  7.690476190476191 --- S: [0, 5] R_:  2.1754966887417218\n",
      "[[334, 260], [323, 42], [132, 37]] --- q:  3.5675675675675675 --- S: [0, 5, 7] R_:  2.327433628318584\n",
      "Hello, bitches\n",
      "i: 1, False\n"
     ]
    },
    {
     "data": {
      "text/plain": [
       "([0, 5, 7], [[334, 260], [323, 42], [132, 37]], 2.327433628318584)"
      ]
     },
     "execution_count": 131,
     "metadata": {},
     "output_type": "execute_result"
    }
   ],
   "source": [
    "u = num[1:]\n",
    "random.shuffle(u)\n",
    "new = []\n",
    "new.append(num[0])\n",
    "new.extend(u)\n",
    "\n",
    "PPH(new, N)"
   ]
  },
  {
   "cell_type": "code",
   "execution_count": null,
   "id": "ce980e38",
   "metadata": {},
   "outputs": [],
   "source": []
  },
  {
   "cell_type": "code",
   "execution_count": null,
   "id": "40bc02b6",
   "metadata": {},
   "outputs": [],
   "source": []
  },
  {
   "cell_type": "code",
   "execution_count": null,
   "id": "a39f3bfd",
   "metadata": {},
   "outputs": [],
   "source": []
  },
  {
   "cell_type": "code",
   "execution_count": null,
   "id": "0ee8a798",
   "metadata": {},
   "outputs": [],
   "source": []
  },
  {
   "cell_type": "code",
   "execution_count": null,
   "id": "0bb0fcaf",
   "metadata": {},
   "outputs": [],
   "source": []
  },
  {
   "cell_type": "markdown",
   "id": "8883d430",
   "metadata": {},
   "source": [
    "# Usando Algoritmos de Ordenação"
   ]
  },
  {
   "cell_type": "code",
   "execution_count": null,
   "id": "d9d63db4",
   "metadata": {},
   "outputs": [],
   "source": [
    "Ordenar do maior pro menor "
   ]
  },
  {
   "cell_type": "markdown",
   "id": "9df5e1cf",
   "metadata": {},
   "source": [
    "o último elemento a ser colocado em num_s tem um quo maior que R_, como os valores que já estão em num_s tem um quo maior que o do último, todos serão maiores que R_"
   ]
  },
  {
   "cell_type": "code",
   "execution_count": 77,
   "id": "37927378",
   "metadata": {},
   "outputs": [],
   "source": [
    "def PPH_ord(num,N,algo):\n",
    "    S = []\n",
    "    num_s = []\n",
    "    S.append(0)\n",
    "    num_s.append(num[0])\n",
    "    \n",
    "    #xxxxxxxxxxxxxxxxxxxxxxxx\n",
    "    \n",
    "    q=num[0][0]/num[0][1]\n",
    "    prim = num[0][0]\n",
    "    sec = num[0][1]\n",
    "    R_ = q\n",
    "    print(num_s,\"---\",S,R_)\n",
    "    \n",
    "    #xxxxxxxxxxxxxxxxxxxxxxx\n",
    "    \n",
    "    vet = [e[0]/e[1] for e in num[1:]]\n",
    "    \n",
    "    vet,ind = algo(vet)  #O(n^2)\n",
    "\n",
    "    #xxxxxxxxxxxxxxxxxxxxxxx\n",
    "    for i in range(len(vet)):\n",
    "        \n",
    "        if vet[i]>R_:\n",
    "            \n",
    "            S.append(ind[i]+1) # era i+1\n",
    "            num_s.append(num[ind[i]+1])\n",
    "            prim += num[ind[i]+1][0]\n",
    "            sec += num[ind[i]+1][1]\n",
    "            R_ = prim/sec\n",
    "            print(num_s,\"---\",\"q: \",q,\"--- S:\",S,\"R_: \",R_)\n",
    "            \n",
    "        else:\n",
    "            print(f\"Parou inserções em {i} de {len(vet)}\")\n",
    "            break\n",
    "      \n",
    "    \n",
    "    \n",
    "    \n",
    "    \n",
    "            \n",
    "#     for i in range(1, len(num_s)):\n",
    "\n",
    "#             q = num_s[i][0]/num_s[i][1]\n",
    "#             if q<=R_:\n",
    "#                 S.pop(i)\n",
    "#                 prim -= num_s[i][0]\n",
    "#                 sec -= num_s[i][1]\n",
    "#                 R_ = prim/sec\n",
    "#                 print(f\"Remoção de {num_s[i]}\", \"----- R_: \",R_)\n",
    "\n",
    "\n",
    "#     new = [num[u] for u in S]\n",
    "\n",
    "\n",
    "#     aux = True\n",
    "#     h = 0\n",
    "#     print(\"Hello, bitches\")\n",
    "#     while aux:\n",
    "#         aux = False\n",
    "#         h += 1\n",
    "#         print(f\"i: {h}, {aux}\")\n",
    "#         for i in range(1, len(S)):\n",
    "#             if S[i] != None:\n",
    "#                 q = num[S[i]][0]/num[S[i]][1]\n",
    "#                 if q<=R_:\n",
    "#                     aux = True\n",
    "                    \n",
    "#                     prim -= num[S[i]][0]\n",
    "#                     sec -= num[S[i]][1]\n",
    "#                     S[i] = None\n",
    "#                     R_ = prim/sec\n",
    "#                     print(f\"Remoção de {num_s[i]}\", \"----- R_: \",R_)\n",
    "\n",
    "\n",
    "\n",
    "#     quo = [e[0]/e[1] for e in num_s[1:]]\n",
    "#     quo,qind = algo(quo)\n",
    "#     for y in range(len(quo)-1,1,-1):\n",
    "#         if quo[y]<R_:\n",
    "#             S[qind[y]+1]=None\n",
    "#             prim -= num_s[qind[y]+1][0]\n",
    "#             sec -= num_s[qind[y]+1][1]\n",
    "#             R_ = prim/sec\n",
    "            \n",
    "#         else:\n",
    "#             print(f\"Parou deleções após {len(quo)-y} iterações de {len(quo)}\")\n",
    "            \n",
    "            \n",
    "\n",
    "\n",
    "\n",
    "\n",
    "\n",
    "    new = [num[u] for u in S if u!=None]\n",
    "    S = [u for u in S if u!=None]\n",
    "   \n",
    "    return S,new,R_\n",
    "\n",
    "        \n",
    "        "
   ]
  },
  {
   "cell_type": "code",
   "execution_count": 165,
   "id": "bf53f557",
   "metadata": {},
   "outputs": [
    {
     "name": "stdout",
     "output_type": "stream",
     "text": [
      "[[334, 260]] --- [0] 1.2846153846153847\n",
      "[[334, 260], [323, 42]] --- q:  1.2846153846153847 --- S: [0, 6] R_:  2.1754966887417218\n",
      "[[334, 260], [323, 42], [132, 37]] --- q:  1.2846153846153847 --- S: [0, 6, 8] R_:  2.327433628318584\n",
      "Parou inserções em 2 de 13\n"
     ]
    },
    {
     "data": {
      "text/plain": [
       "([0, 6, 8], [[334, 260], [323, 42], [132, 37]], 2.327433628318584)"
      ]
     },
     "execution_count": 165,
     "metadata": {},
     "output_type": "execute_result"
    }
   ],
   "source": [
    "u = num[1:]\n",
    "random.shuffle(u)\n",
    "new = []\n",
    "new.append(num[0])\n",
    "new.extend(u)\n",
    "\n",
    "PPH_ord(new, N, bubbleSort)"
   ]
  },
  {
   "cell_type": "code",
   "execution_count": null,
   "id": "70249bde",
   "metadata": {},
   "outputs": [],
   "source": []
  },
  {
   "cell_type": "code",
   "execution_count": null,
   "id": "09f36da8",
   "metadata": {},
   "outputs": [],
   "source": []
  },
  {
   "cell_type": "code",
   "execution_count": 28,
   "id": "98a94daa",
   "metadata": {},
   "outputs": [],
   "source": [
    "def bubbleSort(array):\n",
    "    n = len(array)\n",
    "    original_indices = list(range(n))  # Lista de índices originais\n",
    "\n",
    "    for i in range(n):\n",
    "        for j in range(0, n - i - 1):\n",
    "            if array[j] < array[j + 1]: \n",
    "                # Troca elementos em 'array'\n",
    "                array[j], array[j + 1] = array[j + 1], array[j]\n",
    "                # Troca índices correspondentes em 'original_indices'\n",
    "                original_indices[j], original_indices[j + 1] = original_indices[j + 1], original_indices[j]\n",
    "\n",
    "    return array,original_indices  # Retorna a lista ordenada e os índices originais"
   ]
  },
  {
   "cell_type": "code",
   "execution_count": 26,
   "id": "ca738d03",
   "metadata": {},
   "outputs": [],
   "source": [
    "def insertionSort(array):\n",
    "    n = len(array)\n",
    "    original_indices = list(range(n))  # Lista de índices originais\n",
    "\n",
    "    for step in range(1, n):\n",
    "        key = array[step]\n",
    "        j = step - 1\n",
    "\n",
    "        while j >= 0 and key > array[j]:  # Inverte a condição para ordem decrescente\n",
    "            array[j + 1] = array[j]\n",
    "            # Atualiza os índices correspondentes em 'original_indices'\n",
    "            original_indices[j + 1], original_indices[j] = original_indices[j], original_indices[j + 1]\n",
    "            j = j - 1\n",
    "\n",
    "        array[j + 1] = key\n",
    "\n",
    "    return array,original_indices\n"
   ]
  },
  {
   "cell_type": "code",
   "execution_count": 332,
   "id": "d6cc1dd9",
   "metadata": {},
   "outputs": [
    {
     "data": {
      "text/plain": [
       "([45, 11, 0, -2, -9], [1, 3, 2, 0, 4])"
      ]
     },
     "execution_count": 332,
     "metadata": {},
     "output_type": "execute_result"
    }
   ],
   "source": [
    "data = [-2, 45, 0, 11, -9]\n",
    "indices = insertionSort(data)\n",
    "data,indices"
   ]
  },
  {
   "cell_type": "code",
   "execution_count": null,
   "id": "42d625f7",
   "metadata": {},
   "outputs": [],
   "source": []
  },
  {
   "cell_type": "code",
   "execution_count": 27,
   "id": "82ded7d3",
   "metadata": {},
   "outputs": [],
   "source": [
    "def selectionSort(array):\n",
    "    size = len(array)\n",
    "    original_indices = list(range(size))  # Lista de índices originais\n",
    "\n",
    "    for step in range(size):\n",
    "        max_idx = step  # Altere o nome da variável para max_idx\n",
    "        for i in range(step + 1, size):\n",
    "            # Para classificar em ordem decrescente, altere < para > nesta linha.\n",
    "            # Seleciona o elemento máximo em cada iteração\n",
    "            if array[i] > array[max_idx]:  # Altere < para >\n",
    "                max_idx = i  # Atualize o índice do elemento máximo\n",
    "\n",
    "        # Coloca o máximo na posição correta\n",
    "        (array[step], array[max_idx]) = (array[max_idx], array[step])\n",
    "        # Atualiza os índices correspondentes em 'original_indices'\n",
    "        original_indices[step], original_indices[max_idx] = original_indices[max_idx], original_indices[step]\n",
    "\n",
    "    return array, original_indices\n"
   ]
  },
  {
   "cell_type": "code",
   "execution_count": 334,
   "id": "8a5fe0e3",
   "metadata": {},
   "outputs": [
    {
     "data": {
      "text/plain": [
       "([45, 11, 0, -2, -9], [1, 3, 2, 0, 4])"
      ]
     },
     "execution_count": 334,
     "metadata": {},
     "output_type": "execute_result"
    }
   ],
   "source": [
    "data = [-2, 45, 0, 11, -9]\n",
    "indices = selectionSort(data)\n",
    "data,indices"
   ]
  },
  {
   "cell_type": "code",
   "execution_count": null,
   "id": "a4141933",
   "metadata": {},
   "outputs": [],
   "source": []
  },
  {
   "cell_type": "code",
   "execution_count": null,
   "id": "213bd660",
   "metadata": {},
   "outputs": [],
   "source": []
  },
  {
   "cell_type": "code",
   "execution_count": null,
   "id": "c0e37ddf",
   "metadata": {},
   "outputs": [],
   "source": []
  },
  {
   "cell_type": "code",
   "execution_count": null,
   "id": "b190b00e",
   "metadata": {},
   "outputs": [],
   "source": []
  },
  {
   "cell_type": "markdown",
   "id": "ae221e52",
   "metadata": {},
   "source": [
    "# Usando Algoritmos de Ordenação  -- O(NLogN)"
   ]
  },
  {
   "cell_type": "code",
   "execution_count": null,
   "id": "4c71a373",
   "metadata": {},
   "outputs": [],
   "source": []
  },
  {
   "cell_type": "code",
   "execution_count": null,
   "id": "bf92d4dd",
   "metadata": {},
   "outputs": [],
   "source": []
  },
  {
   "cell_type": "code",
   "execution_count": 450,
   "id": "3ee4e0cf",
   "metadata": {},
   "outputs": [],
   "source": [
    "def quickSort(array, indices=None):\n",
    "    if indices is None:\n",
    "        indices = list(range(len(array)))\n",
    "\n",
    "    if len(array) <= 1:\n",
    "        return array, indices\n",
    "\n",
    "    pivot = array[len(array) // 2]\n",
    "    left, left_indices, middle, middle_indices, right, right_indices = [], [], [], [], [], []\n",
    "\n",
    "    for i, element in enumerate(array):\n",
    "        if element > pivot:\n",
    "            left.append(element)\n",
    "            left_indices.append(indices[i])\n",
    "        elif element < pivot:\n",
    "            right.append(element)\n",
    "            right_indices.append(indices[i])\n",
    "        else:\n",
    "            middle.append(element)\n",
    "            middle_indices.append(indices[i])\n",
    "\n",
    "    left, left_indices = quickSort(left, left_indices)\n",
    "    right, right_indices = quickSort(right, right_indices)\n",
    "\n",
    "    sorted_array = left + middle + right\n",
    "    sorted_indices = left_indices + middle_indices + right_indices\n",
    "\n",
    "    return sorted_array, sorted_indices\n"
   ]
  },
  {
   "cell_type": "code",
   "execution_count": 451,
   "id": "e0e9aa07",
   "metadata": {},
   "outputs": [
    {
     "data": {
      "text/plain": [
       "[45, 11, 0, -2, -9]"
      ]
     },
     "execution_count": 451,
     "metadata": {},
     "output_type": "execute_result"
    }
   ],
   "source": [
    "data = [-2, 45, 0, 11, -9]\n",
    "data,indices = quickSort(data)\n",
    "data"
   ]
  },
  {
   "cell_type": "code",
   "execution_count": 452,
   "id": "78a0a62b",
   "metadata": {},
   "outputs": [
    {
     "data": {
      "text/plain": [
       "[1, 3, 2, 0, 4]"
      ]
     },
     "execution_count": 452,
     "metadata": {},
     "output_type": "execute_result"
    }
   ],
   "source": [
    "indices"
   ]
  },
  {
   "cell_type": "code",
   "execution_count": 447,
   "id": "19899036",
   "metadata": {},
   "outputs": [],
   "source": []
  },
  {
   "cell_type": "code",
   "execution_count": null,
   "id": "600cbd3d",
   "metadata": {},
   "outputs": [],
   "source": []
  },
  {
   "cell_type": "code",
   "execution_count": 455,
   "id": "53631c22",
   "metadata": {},
   "outputs": [
    {
     "name": "stdout",
     "output_type": "stream",
     "text": [
      "Vetor Ordenado: [12, 10, 9, 6, 5, 1]\n",
      "Novos Posicionamentos dos Índices Originais: [2, 3, 4, 0, 1, 5]\n"
     ]
    }
   ],
   "source": [
    "def mergeSort(array):\n",
    "    if len(array) <= 1:\n",
    "        return array, list(range(len(array)))\n",
    "\n",
    "    # Divide o vetor ao meio\n",
    "    mid = len(array) // 2\n",
    "    left_half, left_indices = mergeSort(array[:mid])\n",
    "    right_half, right_indices = mergeSort(array[mid:])\n",
    "\n",
    "    merged_array, merged_indices = [], []\n",
    "    i, j = 0, 0\n",
    "\n",
    "    while i < len(left_half) and j < len(right_half):\n",
    "        if left_half[i] >= right_half[j]:  # Ordena do maior para o menor\n",
    "            merged_array.append(left_half[i])\n",
    "            merged_indices.append(left_indices[i])\n",
    "            i += 1\n",
    "        else:\n",
    "            merged_array.append(right_half[j])\n",
    "            merged_indices.append(right_indices[j] + mid)  # Ajuste dos índices da metade direita\n",
    "            j += 1\n",
    "\n",
    "    merged_array.extend(left_half[i:])\n",
    "    merged_indices.extend(left_indices[i:])\n",
    "    merged_array.extend(right_half[j:])\n",
    "    merged_indices.extend([right_indices[k] + mid for k in range(j, len(right_indices))])  # Ajuste dos índices da metade direita\n",
    "\n",
    "    return merged_array, merged_indices\n",
    "\n",
    "# Exemplo de uso:\n",
    "original_array = [6, 5, 12, 10, 9, 1]\n",
    "sorted_array, indices = mergeSort(original_array)\n",
    "\n",
    "print(\"Vetor Ordenado:\", sorted_array)\n",
    "print(\"Novos Posicionamentos dos Índices Originais:\", indices)\n"
   ]
  },
  {
   "cell_type": "code",
   "execution_count": null,
   "id": "80417adc",
   "metadata": {},
   "outputs": [],
   "source": []
  },
  {
   "cell_type": "code",
   "execution_count": null,
   "id": "1a43f24e",
   "metadata": {},
   "outputs": [],
   "source": []
  },
  {
   "cell_type": "code",
   "execution_count": null,
   "id": "0f7c96fe",
   "metadata": {},
   "outputs": [],
   "source": []
  },
  {
   "cell_type": "code",
   "execution_count": 461,
   "id": "e2082c82",
   "metadata": {},
   "outputs": [
    {
     "name": "stdout",
     "output_type": "stream",
     "text": [
      "Vetor Ordenado (Decrescente): [5, 4, 3, 2, 1]\n",
      "Novos Posicionamentos dos Índices Originais: [1, 3, 4, 0, 2]\n"
     ]
    }
   ],
   "source": [
    "def heapify(arr, n, i, indices):\n",
    "    largest = i\n",
    "    left = 2 * i + 1\n",
    "    right = 2 * i + 2\n",
    "\n",
    "    if left < n and arr[left] > arr[largest]:\n",
    "        largest = left\n",
    "\n",
    "    if right < n and arr[right] > arr[largest]:\n",
    "        largest = right\n",
    "\n",
    "    if largest != i:\n",
    "        arr[i], arr[largest] = arr[largest], arr[i]\n",
    "        indices[i], indices[largest] = indices[largest], indices[i]\n",
    "        heapify(arr, n, largest, indices)\n",
    "\n",
    "def heapSort(array):\n",
    "    n = len(array)\n",
    "    indices = list(range(n))  # Lista de índices originais\n",
    "\n",
    "    # Constrói um max-heap\n",
    "    for i in range(n // 2 - 1, -1, -1):\n",
    "        heapify(array, n, i, indices)\n",
    "\n",
    "    # Extrai elementos do heap um por um, agora do maior para o menor\n",
    "    for i in range(n - 1, 0, -1):\n",
    "        array[i], array[0] = array[0], array[i]\n",
    "        indices[i], indices[0] = indices[0], indices[i]\n",
    "        heapify(array, i, 0, indices)\n",
    "\n",
    "    # Inverte o vetor ordenado para obter a ordem decrescente\n",
    "    array.reverse()\n",
    "    indices.reverse()\n",
    "\n",
    "    return array, indices\n",
    "\n",
    "# Exemplo de uso:\n",
    "original_array = [2, 5, 1, 4, 3]\n",
    "sorted_array, indices = heapSort(original_array)\n",
    "\n",
    "print(\"Vetor Ordenado (Decrescente):\", sorted_array)\n",
    "print(\"Novos Posicionamentos dos Índices Originais:\", indices)\n"
   ]
  },
  {
   "cell_type": "code",
   "execution_count": null,
   "id": "3c5b1524",
   "metadata": {},
   "outputs": [],
   "source": []
  },
  {
   "cell_type": "code",
   "execution_count": null,
   "id": "50290992",
   "metadata": {},
   "outputs": [],
   "source": []
  },
  {
   "cell_type": "code",
   "execution_count": null,
   "id": "e5dc33bd",
   "metadata": {},
   "outputs": [],
   "source": []
  },
  {
   "cell_type": "code",
   "execution_count": null,
   "id": "34e89f6c",
   "metadata": {},
   "outputs": [],
   "source": []
  },
  {
   "cell_type": "code",
   "execution_count": null,
   "id": "a4e91c1b",
   "metadata": {},
   "outputs": [],
   "source": []
  },
  {
   "cell_type": "code",
   "execution_count": null,
   "id": "12d23e93",
   "metadata": {},
   "outputs": [],
   "source": []
  },
  {
   "cell_type": "code",
   "execution_count": null,
   "id": "a67f837a",
   "metadata": {},
   "outputs": [],
   "source": []
  },
  {
   "cell_type": "code",
   "execution_count": null,
   "id": "22e6ece2",
   "metadata": {},
   "outputs": [],
   "source": []
  },
  {
   "cell_type": "markdown",
   "id": "954564a5",
   "metadata": {},
   "source": [
    "# Complexidade: O(N)"
   ]
  },
  {
   "cell_type": "code",
   "execution_count": 550,
   "id": "f3cb8a1c",
   "metadata": {},
   "outputs": [],
   "source": [
    "def PPH_N(num,N):\n",
    "    \n",
    "    S = []\n",
    "    num_s = []\n",
    "    S.append(0)\n",
    "    num_s.append(num[0])\n",
    "    \n",
    "    #xxxxxxxxxxxxxxxxxxxxxxxx\n",
    "    \n",
    "    q=num[0][0]/num[0][1]\n",
    "    prim = num[0][0]\n",
    "    sec = num[0][1]\n",
    "    R_ = q\n",
    "    print(num_s,\"---\",S,R_)\n",
    "    \n",
    "    #xxxxxxxxxxxxxxxxxxxxxxx\n",
    "    for i in range(1, len(num)):\n",
    "        q = num[i][0]/num[i][1]\n",
    "        if q>R_:\n",
    "            S.append(i)\n",
    "            num_s.append(num[i])\n",
    "            prim += num[i][0]\n",
    "            sec += num[i][1]\n",
    "            R_ = prim/sec\n",
    "            print(num_s,\"---\",\"q: \",q,\"--- S:\",S,\"R_: \",R_)\n",
    "            \n",
    "\n",
    "    \n",
    "\n",
    "#     for i in range(1, len(num_s)):\n",
    "\n",
    "#         q = num_s[i][0]/num_s[i][1]\n",
    "#         if q<=R_:\n",
    "#             S.pop(i)\n",
    "#             prim -= num_s[i][0]\n",
    "#             sec -= num_s[i][1]\n",
    "#             R_ = prim/sec\n",
    "#             print(f\"Remoção de {num_s[i]}\", \"----- R_: \",R_)\n",
    "            \n",
    "            \n",
    "#     new = [num[u] for u in S]\n",
    "\n",
    "\n",
    "\n",
    "    aux = True\n",
    "    h = 0\n",
    "    print(\"Hello, bitches\")\n",
    "    while aux:\n",
    "        aux = False\n",
    "        h += 1\n",
    "        print(f\"i: {h}, {aux}\")\n",
    "        for i in range(1, len(S)):\n",
    "            if S[i] != None:\n",
    "                q = num[S[i]][0]/num[S[i]][1]\n",
    "                if q<=R_:\n",
    "                    aux = True\n",
    "                    \n",
    "                    prim -= num[S[i]][0]\n",
    "                    sec -= num[S[i]][1]\n",
    "                    S[i] = None\n",
    "                    R_ = prim/sec\n",
    "                    print(f\"Remoção de {num_s[i]}\", \"----- R_: \",R_)\n",
    "\n",
    "\n",
    "    new = [num[u] for u in S if u!=None]\n",
    "    S = [u for u in S if u!=None]\n",
    "    \n",
    "    return S,new,R_\n",
    "        \n",
    "        "
   ]
  },
  {
   "cell_type": "code",
   "execution_count": 565,
   "id": "09bd2658",
   "metadata": {},
   "outputs": [
    {
     "name": "stdout",
     "output_type": "stream",
     "text": [
      "[[334, 260]] --- [0] 1.2846153846153847\n",
      "[[334, 260], [323, 42]] --- q:  7.690476190476191 --- S: [0, 4] R_:  2.1754966887417218\n",
      "[[334, 260], [323, 42], [186, 84]] --- q:  2.2142857142857144 --- S: [0, 4, 5] R_:  2.183937823834197\n",
      "[[334, 260], [323, 42], [186, 84], [132, 37]] --- q:  3.5675675675675675 --- S: [0, 4, 5, 13] R_:  2.3049645390070923\n",
      "Hello, bitches\n",
      "i: 1, False\n",
      "Remoção de [186, 84] ----- R_:  2.327433628318584\n",
      "i: 2, False\n"
     ]
    },
    {
     "data": {
      "text/plain": [
       "([0, 4, 13], [[334, 260], [323, 42], [132, 37]], 2.327433628318584)"
      ]
     },
     "execution_count": 565,
     "metadata": {},
     "output_type": "execute_result"
    }
   ],
   "source": [
    "new = num[1:]\n",
    "random.shuffle(u)\n",
    "new = []\n",
    "new.append(num[0])\n",
    "new.extend(u)\n",
    "\n",
    "\n",
    "PPH_N(new,N)"
   ]
  },
  {
   "cell_type": "code",
   "execution_count": null,
   "id": "3ef59fe0",
   "metadata": {},
   "outputs": [],
   "source": []
  },
  {
   "cell_type": "code",
   "execution_count": null,
   "id": "08e4a003",
   "metadata": {},
   "outputs": [],
   "source": []
  },
  {
   "cell_type": "code",
   "execution_count": null,
   "id": "ada2d8b6",
   "metadata": {},
   "outputs": [],
   "source": []
  },
  {
   "cell_type": "code",
   "execution_count": null,
   "id": "fbf1ea10",
   "metadata": {},
   "outputs": [],
   "source": []
  },
  {
   "cell_type": "code",
   "execution_count": null,
   "id": "70e40363",
   "metadata": {},
   "outputs": [],
   "source": []
  },
  {
   "cell_type": "code",
   "execution_count": null,
   "id": "d0fdf6ac",
   "metadata": {},
   "outputs": [],
   "source": []
  },
  {
   "cell_type": "code",
   "execution_count": null,
   "id": "a26e836c",
   "metadata": {},
   "outputs": [],
   "source": []
  },
  {
   "cell_type": "code",
   "execution_count": null,
   "id": "cb628832",
   "metadata": {},
   "outputs": [],
   "source": []
  }
 ],
 "metadata": {
  "kernelspec": {
   "display_name": "Python 3 (ipykernel)",
   "language": "python",
   "name": "python3"
  },
  "language_info": {
   "codemirror_mode": {
    "name": "ipython",
    "version": 3
   },
   "file_extension": ".py",
   "mimetype": "text/x-python",
   "name": "python",
   "nbconvert_exporter": "python",
   "pygments_lexer": "ipython3",
   "version": "3.9.16"
  }
 },
 "nbformat": 4,
 "nbformat_minor": 5
}
