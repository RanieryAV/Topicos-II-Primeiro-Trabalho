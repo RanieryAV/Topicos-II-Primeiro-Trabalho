{
 "cells": [
  {
   "cell_type": "code",
   "execution_count": 4,
   "id": "b8a6564a",
   "metadata": {},
   "outputs": [],
   "source": [
    "import timeit\n",
    "from time import time_ns\n",
    "import psutil\n",
    "import os"
   ]
  },
  {
   "cell_type": "code",
   "execution_count": null,
   "id": "9f9d1c9a",
   "metadata": {},
   "outputs": [],
   "source": []
  },
  {
   "cell_type": "code",
   "execution_count": 5,
   "id": "c7752c50",
   "metadata": {},
   "outputs": [],
   "source": [
    "def process_memory():\n",
    "    process = psutil.Process(os.getpid())\n",
    "    mem_info = process.memory_info()\n",
    "    return mem_info.rss"
   ]
  },
  {
   "cell_type": "code",
   "execution_count": null,
   "id": "f1a1c3c5",
   "metadata": {},
   "outputs": [],
   "source": []
  },
  {
   "cell_type": "code",
   "execution_count": null,
   "id": "bb36699c",
   "metadata": {},
   "outputs": [],
   "source": []
  },
  {
   "cell_type": "markdown",
   "id": "0e26da1b",
   "metadata": {},
   "source": [
    "# Medição de Tempo"
   ]
  },
  {
   "cell_type": "code",
   "execution_count": null,
   "id": "f6fe678b",
   "metadata": {},
   "outputs": [],
   "source": []
  },
  {
   "cell_type": "code",
   "execution_count": 39,
   "id": "0b2f9735",
   "metadata": {},
   "outputs": [],
   "source": [
    "def minha_funcao(n):\n",
    "    \n",
    "    lista = [i for i in range(n)]\n",
    "\n",
    "    return lista"
   ]
  },
  {
   "cell_type": "code",
   "execution_count": 40,
   "id": "c7361899",
   "metadata": {},
   "outputs": [
    {
     "data": {
      "text/plain": [
       "6007000"
      ]
     },
     "execution_count": 40,
     "metadata": {},
     "output_type": "execute_result"
    }
   ],
   "source": [
    "start_time = time_ns()  #Pega o tempo inicial\n",
    "res = minha_funcao(100000)   #Executa a função\n",
    "end_time = time_ns()  # Pega o tempo de término\n",
    "elapsed_time = end_time - start_time  #Calcula o tempo consumido em nanossegundos\n",
    "elapsed_time"
   ]
  },
  {
   "cell_type": "code",
   "execution_count": null,
   "id": "37cfe3c4",
   "metadata": {},
   "outputs": [],
   "source": []
  },
  {
   "cell_type": "code",
   "execution_count": null,
   "id": "595430cc",
   "metadata": {},
   "outputs": [],
   "source": []
  },
  {
   "cell_type": "markdown",
   "id": "d997c6fb",
   "metadata": {},
   "source": [
    "# Medição de Memória"
   ]
  },
  {
   "cell_type": "markdown",
   "id": "6cbdafb9",
   "metadata": {},
   "source": [
    "Pra medir memória, recomendo botar medir o tempo inicial e final dentro da função pra não resultar em valores doidos como negativos"
   ]
  },
  {
   "cell_type": "code",
   "execution_count": 28,
   "id": "b6e7f548",
   "metadata": {},
   "outputs": [],
   "source": [
    "def minha_funcao_modificada(n):\n",
    "    mem_before = process_memory() #Pega a memória inicial\n",
    "    #XXXXXXXXXXXXXXXXXXXXXXXXXXXX\n",
    "    \n",
    "    lista = [i for i in range(n)]\n",
    "    \n",
    "    #XXXXXXXXXXXXXXXXXXXXXXXXXXXX\n",
    "    mem_after = process_memory() #Pega a memória final\n",
    "    mem_used = mem_after - mem_before  #Calcula a memória consumida em bytes\n",
    "    \n",
    "    return lista,mem_used"
   ]
  },
  {
   "cell_type": "code",
   "execution_count": 38,
   "id": "4dcdebbe",
   "metadata": {},
   "outputs": [
    {
     "data": {
      "text/plain": [
       "786432"
      ]
     },
     "execution_count": 38,
     "metadata": {},
     "output_type": "execute_result"
    }
   ],
   "source": [
    "res, mem_used = minha_funcao_modificada(100000)   #Executa a função\n",
    "\n",
    "mem_used "
   ]
  }
 ],
 "metadata": {
  "kernelspec": {
   "display_name": "Python 3 (ipykernel)",
   "language": "python",
   "name": "python3"
  },
  "language_info": {
   "codemirror_mode": {
    "name": "ipython",
    "version": 3
   },
   "file_extension": ".py",
   "mimetype": "text/x-python",
   "name": "python",
   "nbconvert_exporter": "python",
   "pygments_lexer": "ipython3",
   "version": "3.9.16"
  }
 },
 "nbformat": 4,
 "nbformat_minor": 5
}
