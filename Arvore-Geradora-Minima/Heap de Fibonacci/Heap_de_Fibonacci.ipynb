{
  "nbformat": 4,
  "nbformat_minor": 0,
  "metadata": {
    "colab": {
      "provenance": [],
      "authorship_tag": "ABX9TyOBdZ77CA+UoSQLiaHmfeQE",
      "include_colab_link": true
    },
    "kernelspec": {
      "name": "python3",
      "display_name": "Python 3"
    },
    "language_info": {
      "name": "python"
    }
  },
  "cells": [
    {
      "cell_type": "markdown",
      "metadata": {
        "id": "view-in-github",
        "colab_type": "text"
      },
      "source": [
        "<a href=\"https://colab.research.google.com/github/RanieryAV/Topicos-II-Primeiro-Trabalho/blob/main/Arvore-Geradora-Minima/Heap%20de%20Fibonacci/Heap_de_Fibonacci.ipynb\" target=\"_parent\"><img src=\"https://colab.research.google.com/assets/colab-badge.svg\" alt=\"Open In Colab\"/></a>"
      ]
    },
    {
      "cell_type": "code",
      "execution_count": 8,
      "metadata": {
        "id": "-XgKVV68-blS"
      },
      "outputs": [],
      "source": [
        "import sys\n",
        "import pickle\n",
        "import tracemalloc\n",
        "import timeit\n",
        "from time import time_ns\n",
        "import psutil\n",
        "import os"
      ]
    },
    {
      "cell_type": "code",
      "source": [
        "!pip install fibheap"
      ],
      "metadata": {
        "colab": {
          "base_uri": "https://localhost:8080/"
        },
        "id": "rByRbrAARkXC",
        "outputId": "068b8c96-26bb-419e-c915-d0bb2790ca25"
      },
      "execution_count": 9,
      "outputs": [
        {
          "output_type": "stream",
          "name": "stdout",
          "text": [
            "Requirement already satisfied: fibheap in /usr/local/lib/python3.10/dist-packages (0.2.1)\n"
          ]
        }
      ]
    },
    {
      "cell_type": "code",
      "source": [
        "from fibheap import *"
      ],
      "metadata": {
        "id": "t4xRtndFR5Q9"
      },
      "execution_count": 10,
      "outputs": []
    },
    {
      "cell_type": "markdown",
      "source": [
        "###Dados"
      ],
      "metadata": {
        "id": "yCK7UQkqgjix"
      }
    },
    {
      "cell_type": "code",
      "source": [
        "arquivos1 = ['/content/dados/alue2087.stp','/content/dados/alue2105.stp','/content/dados/alue3146.stp','/content/dados/alue5067.stp','/content/dados/alue5345.stp','/content/dados/alue5623.stp','/content/dados/alue5901.stp','/content/dados/alue6179.stp','/content/dados/alue6457.stp','/content/dados/alue6735.stp','/content/dados/alue6951.stp','/content/dados/alue7065.stp','/content/dados/alue7066.stp','/content/dados/alue7080.stp', '/content/dados/alue7229.stp']"
      ],
      "metadata": {
        "id": "yMY5eyEigqS8"
      },
      "execution_count": null,
      "outputs": []
    },
    {
      "cell_type": "code",
      "source": [
        "arquivos2 = ['/content/dados/alut0787.stp','/content/dados/alut0805.stp','/content/dados/alut1181.stp','/content/dados/alut2010.stp','/content/dados/alut2288.stp','/content/dados/alut2566.stp','/content/dados/alut2610.stp','/content/dados/alut2625.stp','/content/dados/alut2764.stp']"
      ],
      "metadata": {
        "id": "2d-m7XSpgqbH"
      },
      "execution_count": null,
      "outputs": []
    },
    {
      "cell_type": "code",
      "source": [
        "arquivos3 = ['/content/dados/dmxa0296.stp','/content/dados/dmxa0368.stp','/content/dados/dmxa0454.stp','/content/dados/dmxa0628.stp','/content/dados/dmxa0734.stp','/content/dados/dmxa0848.stp','/content/dados/dmxa0903.stp','/content/dados/dmxa1010.stp','/content/dados/dmxa1109.stp','/content/dados/dmxa1200.stp','/content/dados/dmxa1304.stp','/content/dados/dmxa1516.stp','/content/dados/dmxa1721.stp','/content/dados/dmxa1801.stp']"
      ],
      "metadata": {
        "id": "Svsb9IpvZ__n"
      },
      "execution_count": 50,
      "outputs": []
    },
    {
      "cell_type": "markdown",
      "source": [
        "##Função do algoritmo de Prim"
      ],
      "metadata": {
        "id": "xfi3e0e64gc8"
      }
    },
    {
      "cell_type": "code",
      "source": [
        "def prim(graph, start_node):\n",
        "    mst = []  # Inicializa a árvore geradora mínima como uma lista vazia\n",
        "    visited = set([start_node])  # Inicializa o conjunto de nós visitados com o nó inicial\n",
        "    fib_heap = makefheap()  # Cria um heap de Fibonacci vazio\n",
        "\n",
        "    mem_before = process_memory()  # Pega a memória inicial\n",
        "    # Cria uma lista de arestas do nó inicial e seus custos\n",
        "    edges = [\n",
        "        (cost, start_node, to)\n",
        "        for to, cost in graph[start_node].items()\n",
        "    ]\n",
        "\n",
        "    # Insere todas as arestas no heap de Fibonacci com o custo como chave\n",
        "    for edge in edges:\n",
        "        fheappush(fib_heap, edge)\n",
        "\n",
        "    # Continua enquanto houver arestas no heap de Fibonacci\n",
        "    while fib_heap.min is not None:\n",
        "        # Obtém e remove a aresta de menor custo do heap de Fibonacci\n",
        "        cost, frm, to = fheappop(fib_heap)\n",
        "\n",
        "        # Se o nó 'to' ainda não foi visitado\n",
        "        if to not in visited:\n",
        "            visited.add(to)  # Adiciona o nó 'to' ao conjunto de nós visitados\n",
        "            mst.append((frm, to, cost))  # Adiciona a aresta à árvore geradora mínima\n",
        "\n",
        "            # Para cada nó adjacente ao nó 'to'\n",
        "            for to_next, cost2 in graph[to].items():\n",
        "                # Se o nó adjacente ainda não foi visitado\n",
        "                if to_next not in visited:\n",
        "                    # Adiciona a aresta ao heap de Fibonacci\n",
        "                    fheappush(fib_heap, (cost2, to, to_next))\n",
        "    mem_after = process_memory()  # Pega a memória final\n",
        "    mem_used = mem_after - mem_before  # Calcula a memória consumida em bytes\n",
        "\n",
        "    return mst, mem_used  # Retorna a árvore geradora mínima\n"
      ],
      "metadata": {
        "id": "qyC2MvTlVY3Y"
      },
      "execution_count": 34,
      "outputs": []
    },
    {
      "cell_type": "markdown",
      "source": [
        "##Função para ler o arquivo .stp e traduzir para uma estrutura de dicionário representando um grafo"
      ],
      "metadata": {
        "id": "Uirrlubi4nC-"
      }
    },
    {
      "cell_type": "code",
      "source": [
        "def read_stp(filename):\n",
        "    graph = {}\n",
        "    with open(filename, 'r') as file:\n",
        "        for line in file:\n",
        "            if line.startswith('E '):\n",
        "                data = line.strip().split()\n",
        "                node1 = int(data[1])\n",
        "                node2 = int(data[2])\n",
        "                cost = float(data[3])\n",
        "                if node1 not in graph:\n",
        "                    graph[node1] = {}\n",
        "                if node2 not in graph:\n",
        "                    graph[node2] = {}\n",
        "                graph[node1][node2] = cost\n",
        "                graph[node2][node1] = cost\n",
        "    return graph"
      ],
      "metadata": {
        "id": "WDYn3qNE-meK"
      },
      "execution_count": 35,
      "outputs": []
    },
    {
      "cell_type": "markdown",
      "source": [
        "##Função principal que usa as anteriores para ler o arquivo de entrada, modelar o grafo e retornar a MST"
      ],
      "metadata": {
        "id": "9dN1cXq55Jn2"
      }
    },
    {
      "cell_type": "code",
      "source": [
        "def main():\n",
        "    filename = '/content/dados/dmxa0296.stp'\n",
        "    graph = read_stp(filename)\n",
        "    mst, _ = prim(graph, 1)\n",
        "    print(mst) #A Mst é retornada como uma lista de tuplas, cada tupla contém a aresta que é representada pelos seus vértices interligados e respectivo peso"
      ],
      "metadata": {
        "id": "nGIeuEMK-wnY"
      },
      "execution_count": 36,
      "outputs": []
    },
    {
      "cell_type": "code",
      "source": [
        "if __name__ == \"__main__\":\n",
        "    main()"
      ],
      "metadata": {
        "id": "Y-_RPCj5-zJM",
        "colab": {
          "base_uri": "https://localhost:8080/"
        },
        "outputId": "98d35715-45c5-4071-c0b1-7d682a7bb57c"
      },
      "execution_count": 37,
      "outputs": [
        {
          "output_type": "stream",
          "name": "stdout",
          "text": [
            "[(1, 2, 5.0), (1, 14, 13.0), (14, 15, 5.0), (15, 27, 13.0), (27, 26, 5.0), (27, 28, 5.0), (28, 29, 5.0), (29, 30, 5.0), (30, 31, 5.0), (31, 32, 5.0), (32, 33, 5.0), (33, 34, 5.0), (27, 40, 13.0), (40, 39, 5.0), (40, 41, 5.0), (41, 42, 5.0), (42, 43, 5.0), (43, 44, 5.0), (44, 45, 5.0), (45, 46, 5.0), (46, 47, 5.0), (47, 48, 5.0), (48, 49, 5.0), (49, 50, 5.0), (50, 51, 5.0), (51, 52, 5.0), (29, 16, 13.0), (16, 17, 5.0), (17, 18, 5.0), (18, 19, 5.0), (19, 20, 5.0), (20, 21, 5.0), (16, 3, 13.0), (3, 4, 5.0), (4, 5, 5.0), (5, 6, 5.0), (6, 7, 5.0), (7, 8, 5.0), (8, 9, 5.0), (9, 10, 5.0), (10, 11, 5.0), (11, 12, 5.0), (12, 13, 5.0), (10, 22, 13.0), (22, 23, 5.0), (23, 24, 5.0), (24, 25, 5.0), (22, 35, 13.0), (35, 36, 5.0), (36, 37, 5.0), (37, 38, 5.0), (39, 53, 13.0), (53, 54, 5.0), (54, 55, 5.0), (55, 56, 5.0), (56, 57, 5.0), (57, 58, 5.0), (58, 59, 5.0), (47, 60, 13.0), (60, 61, 5.0), (61, 62, 5.0), (62, 63, 5.0), (63, 64, 5.0), (64, 65, 5.0), (53, 66, 13.0), (66, 67, 5.0), (67, 68, 5.0), (68, 69, 5.0), (69, 70, 5.0), (70, 71, 5.0), (71, 72, 5.0), (60, 73, 13.0), (62, 74, 13.0), (74, 75, 5.0), (75, 76, 5.0), (76, 77, 5.0), (66, 78, 13.0), (78, 79, 5.0), (79, 80, 5.0), (80, 81, 5.0), (81, 82, 5.0), (82, 83, 5.0), (83, 84, 5.0), (84, 85, 5.0), (85, 86, 5.0), (74, 87, 13.0), (87, 88, 5.0), (88, 89, 5.0), (89, 90, 5.0), (78, 91, 13.0), (91, 92, 5.0), (92, 93, 5.0), (93, 94, 5.0), (94, 95, 5.0), (95, 96, 5.0), (96, 97, 5.0), (97, 98, 5.0), (98, 99, 5.0), (99, 100, 5.0), (100, 101, 5.0), (101, 102, 5.0), (102, 103, 5.0), (103, 104, 5.0), (91, 105, 13.0), (105, 106, 5.0), (106, 107, 5.0), (107, 108, 5.0), (108, 109, 5.0), (109, 110, 5.0), (110, 111, 5.0), (111, 112, 5.0), (112, 113, 5.0), (113, 114, 5.0), (114, 115, 5.0), (115, 116, 5.0), (116, 117, 5.0), (117, 118, 5.0), (107, 121, 13.0), (121, 120, 5.0), (120, 119, 5.0), (121, 122, 5.0), (122, 123, 5.0), (123, 124, 5.0), (124, 125, 5.0), (113, 126, 13.0), (115, 127, 13.0), (127, 128, 5.0), (128, 129, 5.0), (129, 130, 5.0), (122, 131, 13.0), (131, 132, 5.0), (132, 133, 5.0), (133, 134, 5.0), (126, 135, 13.0), (127, 136, 13.0), (136, 137, 5.0), (137, 138, 5.0), (138, 139, 5.0), (131, 143, 13.0), (143, 142, 5.0), (142, 141, 5.0), (141, 140, 5.0), (143, 144, 5.0), (144, 145, 5.0), (145, 146, 5.0), (146, 147, 5.0), (147, 148, 5.0), (148, 149, 5.0), (149, 150, 5.0), (150, 151, 5.0), (151, 152, 5.0), (152, 153, 5.0), (140, 154, 13.0), (154, 155, 5.0), (155, 156, 5.0), (156, 157, 5.0), (157, 158, 5.0), (158, 159, 5.0), (159, 160, 5.0), (160, 161, 5.0), (161, 162, 5.0), (162, 163, 5.0), (163, 164, 5.0), (164, 165, 5.0), (165, 166, 5.0), (166, 167, 5.0), (154, 168, 13.0), (168, 169, 5.0), (169, 170, 5.0), (170, 171, 5.0), (171, 172, 5.0), (172, 173, 5.0), (173, 174, 5.0), (174, 175, 5.0), (175, 176, 5.0), (176, 177, 5.0), (177, 178, 5.0), (178, 179, 5.0), (179, 180, 5.0), (180, 181, 5.0), (168, 182, 13.0), (182, 183, 5.0), (183, 184, 5.0), (184, 185, 5.0), (185, 186, 5.0), (186, 187, 5.0), (187, 188, 5.0), (188, 189, 5.0), (189, 190, 5.0), (190, 191, 5.0), (191, 192, 5.0), (192, 193, 5.0), (181, 194, 13.0), (182, 195, 13.0), (195, 196, 5.0), (196, 197, 5.0), (197, 198, 5.0), (198, 199, 5.0), (199, 200, 5.0), (200, 201, 5.0), (201, 202, 5.0), (202, 203, 5.0), (203, 204, 5.0), (204, 205, 5.0), (205, 206, 5.0), (194, 207, 13.0), (195, 208, 13.0), (208, 209, 5.0), (209, 210, 5.0), (199, 211, 13.0), (211, 212, 5.0), (212, 213, 5.0), (213, 214, 5.0), (214, 215, 5.0), (215, 216, 5.0), (216, 217, 5.0), (217, 218, 5.0), (218, 219, 5.0), (219, 220, 5.0), (208, 221, 13.0), (221, 222, 5.0), (222, 223, 5.0), (211, 224, 13.0), (224, 225, 5.0), (225, 226, 5.0), (226, 227, 5.0), (227, 228, 5.0), (228, 229, 5.0), (229, 230, 5.0), (230, 231, 5.0), (231, 232, 5.0), (232, 233, 5.0)]\n"
          ]
        }
      ]
    },
    {
      "cell_type": "markdown",
      "source": [
        "##Função para medir a memória gasta na execução do algoritmo\n"
      ],
      "metadata": {
        "id": "nQG9ffESUL_q"
      }
    },
    {
      "cell_type": "code",
      "source": [
        "def process_memory():\n",
        "    process = psutil.Process(os.getpid())\n",
        "    mem_info = process.memory_info()\n",
        "    return mem_info.rss"
      ],
      "metadata": {
        "id": "tiYSx26uUplX"
      },
      "execution_count": 13,
      "outputs": []
    },
    {
      "cell_type": "markdown",
      "source": [
        "##Funções para automatizar o treino e plotagem de gráficos"
      ],
      "metadata": {
        "id": "EbtT_-RrFqMg"
      }
    },
    {
      "cell_type": "code",
      "source": [
        "def fheap_Auto(arquivos):\n",
        "  fheap_data = {\"memoria\":{}, \"tempo\":{}}\n",
        "\n",
        "  for arquivo in (arquivos):\n",
        "    graph = read_stp(arquivo)\n",
        "\n",
        "    start_time = time_ns()\n",
        "    mst, totalMemory = prim(graph, 1)\n",
        "    end_time = time_ns()\n",
        "\n",
        "    elapsed_time = end_time - start_time\n",
        "\n",
        "    fheap_data['memoria'][arquivo] = totalMemory\n",
        "    fheap_data['tempo'][arquivo] = elapsed_time\n",
        "\n",
        "\n",
        "  return fheap_data\n",
        "\n",
        "dic_fheap = fheap_Auto(arquivos3)\n",
        "\n",
        "with open(\"avl.pkl\", \"wb\") as f:\n",
        "    # Usa a função dump para salvar o dicionário no arquivo\n",
        "    pickle.dump(dic_fheap, f)"
      ],
      "metadata": {
        "id": "X130PhSyK4zS"
      },
      "execution_count": 51,
      "outputs": []
    },
    {
      "cell_type": "code",
      "source": [
        "dic_fheap"
      ],
      "metadata": {
        "id": "K33eJ8jYblXA",
        "colab": {
          "base_uri": "https://localhost:8080/"
        },
        "outputId": "ec3e2350-eea6-4651-a1ca-731a92c588f2"
      },
      "execution_count": 52,
      "outputs": [
        {
          "output_type": "execute_result",
          "data": {
            "text/plain": [
              "{'memoria': {'/content/dados/dmxa0296.stp': 0,\n",
              "  '/content/dados/dmxa0368.stp': 0,\n",
              "  '/content/dados/dmxa0454.stp': 0,\n",
              "  '/content/dados/dmxa0628.stp': 0,\n",
              "  '/content/dados/dmxa0734.stp': 0,\n",
              "  '/content/dados/dmxa0848.stp': 0,\n",
              "  '/content/dados/dmxa0903.stp': 0,\n",
              "  '/content/dados/dmxa1010.stp': 0,\n",
              "  '/content/dados/dmxa1109.stp': 0,\n",
              "  '/content/dados/dmxa1200.stp': 0,\n",
              "  '/content/dados/dmxa1304.stp': 0,\n",
              "  '/content/dados/dmxa1516.stp': 0,\n",
              "  '/content/dados/dmxa1721.stp': 0,\n",
              "  '/content/dados/dmxa1801.stp': 0},\n",
              " 'tempo': {'/content/dados/dmxa0296.stp': 9534943,\n",
              "  '/content/dados/dmxa0368.stp': 103840429,\n",
              "  '/content/dados/dmxa0454.stp': 78389294,\n",
              "  '/content/dados/dmxa0628.stp': 5159761,\n",
              "  '/content/dados/dmxa0734.stp': 21208962,\n",
              "  '/content/dados/dmxa0848.stp': 16945059,\n",
              "  '/content/dados/dmxa0903.stp': 21697619,\n",
              "  '/content/dados/dmxa1010.stp': 170731168,\n",
              "  '/content/dados/dmxa1109.stp': 11895071,\n",
              "  '/content/dados/dmxa1200.stp': 29052247,\n",
              "  '/content/dados/dmxa1304.stp': 10152601,\n",
              "  '/content/dados/dmxa1516.stp': 25352750,\n",
              "  '/content/dados/dmxa1721.stp': 42347818,\n",
              "  '/content/dados/dmxa1801.stp': 92969438}}"
            ]
          },
          "metadata": {},
          "execution_count": 52
        }
      ]
    },
    {
      "cell_type": "code",
      "source": [
        "nome_arquivo = 'avl.pkl'\n",
        "with open(nome_arquivo, 'rb') as arquivo:\n",
        "    fheap_time = pickle.load(arquivo)"
      ],
      "metadata": {
        "id": "OMAAnVavQtHj"
      },
      "execution_count": null,
      "outputs": []
    },
    {
      "cell_type": "code",
      "source": [
        "import matplotlib.pyplot as plt\n",
        "\n",
        "x = range(1, len(fheap_time) + 1)\n",
        "y = fheap_time.values()\n",
        "\n",
        "plt.plot(x, y)\n",
        "plt.title('Tempo gasto na execução de Prim usando AVL')\n",
        "plt.xlabel('Dados')\n",
        "plt.ylabel('Tempo(ns)')\n",
        "plt.xticks(x)\n",
        "plt.show()"
      ],
      "metadata": {
        "id": "-2aeDC9cXXbW"
      },
      "execution_count": null,
      "outputs": []
    },
    {
      "cell_type": "code",
      "source": [
        "x = range(1, len(fheap_space) + 1)\n",
        "y = fheap_space.values()\n",
        "\n",
        "plt.plot(x, y)\n",
        "plt.title('Memória gasta na execução de Prim usando AVL')\n",
        "plt.xlabel('Dados')\n",
        "plt.ylabel('Memória(B)')\n",
        "plt.xticks(x)\n",
        "plt.show()\n"
      ],
      "metadata": {
        "id": "6NWZqp22jgTm"
      },
      "execution_count": null,
      "outputs": []
    },
    {
      "cell_type": "markdown",
      "source": [
        "##Exemplo de como é lido e interpretado o grafo de um arquivo de entrada"
      ],
      "metadata": {
        "id": "dTWyqfkn5g8z"
      }
    },
    {
      "cell_type": "code",
      "source": [
        "filename = '/content/dados/dmxa0296.stp'\n",
        "graph = read_stp(filename)"
      ],
      "metadata": {
        "id": "rHdFerZN00Yk"
      },
      "execution_count": null,
      "outputs": []
    },
    {
      "cell_type": "code",
      "source": [
        "for to, cost in graph[1].items():\n",
        "  print(f\"to: {to}; cost: {cost}\")"
      ],
      "metadata": {
        "id": "7jaz8tYL06Hl",
        "colab": {
          "base_uri": "https://localhost:8080/"
        },
        "outputId": "2eed370c-0c14-472c-b42e-72d1da7b69ac"
      },
      "execution_count": null,
      "outputs": [
        {
          "output_type": "stream",
          "name": "stdout",
          "text": [
            "to: 2; cost: 5.0\n",
            "to: 14; cost: 13.0\n"
          ]
        }
      ]
    },
    {
      "cell_type": "code",
      "source": [
        "heap = makefheap()"
      ],
      "metadata": {
        "id": "Cv-fPKS4R3hV"
      },
      "execution_count": 28,
      "outputs": []
    },
    {
      "cell_type": "code",
      "source": [
        "fheappush(heap, (2, 4, 5))"
      ],
      "metadata": {
        "id": "iTMxAEPDZxLR"
      },
      "execution_count": 39,
      "outputs": []
    },
    {
      "cell_type": "code",
      "source": [
        "fheappush(heap, (1, 3, 6))"
      ],
      "metadata": {
        "id": "WAfpQLGgbsi_"
      },
      "execution_count": 40,
      "outputs": []
    },
    {
      "cell_type": "code",
      "source": [
        "fheappush(heap, (3, 5, 9))"
      ],
      "metadata": {
        "id": "RiO5bTDhbmTh"
      },
      "execution_count": 41,
      "outputs": []
    },
    {
      "cell_type": "code",
      "source": [
        "getfheapmin(heap)"
      ],
      "metadata": {
        "colab": {
          "base_uri": "https://localhost:8080/"
        },
        "id": "fL2b75tvXd75",
        "outputId": "89e83f3e-f3f7-4388-89b6-29b0af75ed8c"
      },
      "execution_count": 47,
      "outputs": [
        {
          "output_type": "execute_result",
          "data": {
            "text/plain": [
              "(3, 5, 9)"
            ]
          },
          "metadata": {},
          "execution_count": 47
        }
      ]
    },
    {
      "cell_type": "code",
      "source": [
        "fheappop(heap)"
      ],
      "metadata": {
        "colab": {
          "base_uri": "https://localhost:8080/"
        },
        "id": "gJBBFJ4wbKeT",
        "outputId": "77718b28-e626-4ee2-8ba3-e531479e2368"
      },
      "execution_count": 46,
      "outputs": [
        {
          "output_type": "execute_result",
          "data": {
            "text/plain": [
              "(2, 4, 5)"
            ]
          },
          "metadata": {},
          "execution_count": 46
        }
      ]
    },
    {
      "cell_type": "code",
      "source": [
        "heap.min is None"
      ],
      "metadata": {
        "colab": {
          "base_uri": "https://localhost:8080/"
        },
        "id": "lcm-T5oaaaT-",
        "outputId": "4c154947-9ff7-4d70-b38b-b0f2a48707e6"
      },
      "execution_count": 32,
      "outputs": [
        {
          "output_type": "execute_result",
          "data": {
            "text/plain": [
              "False"
            ]
          },
          "metadata": {},
          "execution_count": 32
        }
      ]
    }
  ]
}