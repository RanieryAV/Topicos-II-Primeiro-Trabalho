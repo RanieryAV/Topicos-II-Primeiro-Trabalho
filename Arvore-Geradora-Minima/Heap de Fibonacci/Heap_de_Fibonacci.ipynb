{
  "nbformat": 4,
  "nbformat_minor": 0,
  "metadata": {
    "colab": {
      "provenance": [],
      "gpuType": "T4",
      "authorship_tag": "ABX9TyOm62MCw2GOoIGH2vpgrD4j",
      "include_colab_link": true
    },
    "kernelspec": {
      "name": "python3",
      "display_name": "Python 3"
    },
    "language_info": {
      "name": "python"
    },
    "accelerator": "GPU"
  },
  "cells": [
    {
      "cell_type": "markdown",
      "metadata": {
        "id": "view-in-github",
        "colab_type": "text"
      },
      "source": [
        "<a href=\"https://colab.research.google.com/github/RanieryAV/Topicos-II-Primeiro-Trabalho/blob/main/Arvore-Geradora-Minima/Heap%20de%20Fibonacci/Heap_de_Fibonacci.ipynb\" target=\"_parent\"><img src=\"https://colab.research.google.com/assets/colab-badge.svg\" alt=\"Open In Colab\"/></a>"
      ]
    },
    {
      "cell_type": "code",
      "execution_count": 1,
      "metadata": {
        "id": "-XgKVV68-blS"
      },
      "outputs": [],
      "source": [
        "import sys\n",
        "import pickle\n",
        "import tracemalloc\n",
        "import timeit\n",
        "from time import time_ns\n",
        "import psutil\n",
        "import os"
      ]
    },
    {
      "cell_type": "code",
      "source": [
        "!pip install fibheap"
      ],
      "metadata": {
        "colab": {
          "base_uri": "https://localhost:8080/"
        },
        "id": "rByRbrAARkXC",
        "outputId": "a7e793dd-6668-41d5-f2f2-24cac6cf6458"
      },
      "execution_count": 2,
      "outputs": [
        {
          "output_type": "stream",
          "name": "stdout",
          "text": [
            "Collecting fibheap\n",
            "  Downloading fibheap-0.2.1.tar.gz (5.6 kB)\n",
            "  Preparing metadata (setup.py) ... \u001b[?25l\u001b[?25hdone\n",
            "Building wheels for collected packages: fibheap\n",
            "  Building wheel for fibheap (setup.py) ... \u001b[?25l\u001b[?25hdone\n",
            "  Created wheel for fibheap: filename=fibheap-0.2.1-py3-none-any.whl size=5867 sha256=67c855791de3afe00734f9002560bcbccaceaad8a59917e5ed1a8db2c3715e09\n",
            "  Stored in directory: /root/.cache/pip/wheels/91/4b/35/55d7843661b9e8984d3c8863b7bbc00b5c62c30717d08418c0\n",
            "Successfully built fibheap\n",
            "Installing collected packages: fibheap\n",
            "Successfully installed fibheap-0.2.1\n"
          ]
        }
      ]
    },
    {
      "cell_type": "code",
      "source": [
        "from fibheap import *"
      ],
      "metadata": {
        "id": "t4xRtndFR5Q9"
      },
      "execution_count": 3,
      "outputs": []
    },
    {
      "cell_type": "markdown",
      "source": [
        "###Dados"
      ],
      "metadata": {
        "id": "yCK7UQkqgjix"
      }
    },
    {
      "cell_type": "code",
      "source": [
        "arquivos1 = ['/content/dados/alue2087.stp','/content/dados/alue2105.stp','/content/dados/alue3146.stp','/content/dados/alue5067.stp','/content/dados/alue5345.stp','/content/dados/alue5623.stp','/content/dados/alue5901.stp','/content/dados/alue6179.stp','/content/dados/alue6457.stp','/content/dados/alue6735.stp','/content/dados/alue6951.stp','/content/dados/alue7065.stp','/content/dados/alue7066.stp','/content/dados/alue7080.stp', '/content/dados/alue7229.stp']"
      ],
      "metadata": {
        "id": "yMY5eyEigqS8"
      },
      "execution_count": 1,
      "outputs": []
    },
    {
      "cell_type": "code",
      "source": [
        "arquivos2 = ['/content/dados/alut0787.stp','/content/dados/alut0805.stp','/content/dados/alut1181.stp','/content/dados/alut2010.stp','/content/dados/alut2288.stp','/content/dados/alut2566.stp','/content/dados/alut2610.stp','/content/dados/alut2625.stp','/content/dados/alut2764.stp']"
      ],
      "metadata": {
        "id": "2d-m7XSpgqbH"
      },
      "execution_count": 4,
      "outputs": []
    },
    {
      "cell_type": "code",
      "source": [
        "arquivos3 = ['/content/dados/dmxa0296.stp','/content/dados/dmxa0368.stp','/content/dados/dmxa0454.stp','/content/dados/dmxa0628.stp','/content/dados/dmxa0734.stp','/content/dados/dmxa0848.stp','/content/dados/dmxa0903.stp','/content/dados/dmxa1010.stp','/content/dados/dmxa1109.stp','/content/dados/dmxa1200.stp','/content/dados/dmxa1304.stp','/content/dados/dmxa1516.stp','/content/dados/dmxa1721.stp','/content/dados/dmxa1801.stp']"
      ],
      "metadata": {
        "id": "Svsb9IpvZ__n"
      },
      "execution_count": 4,
      "outputs": []
    },
    {
      "cell_type": "markdown",
      "source": [
        "##Função do algoritmo de Prim"
      ],
      "metadata": {
        "id": "xfi3e0e64gc8"
      }
    },
    {
      "cell_type": "code",
      "source": [
        "def prim(graph, start_node):\n",
        "    mst = []  # Inicializa a árvore geradora mínima como uma lista vazia\n",
        "    visited = set([start_node])  # Inicializa o conjunto de nós visitados com o nó inicial\n",
        "    fib_heap = makefheap()  # Cria um heap de Fibonacci vazio\n",
        "\n",
        "    # Cria uma lista de arestas do nó inicial e seus custos\n",
        "    edges = [\n",
        "        (cost, start_node, to)\n",
        "        for to, cost in graph[start_node].items()\n",
        "    ]\n",
        "\n",
        "    # Insere todas as arestas no heap de Fibonacci com o custo como chave\n",
        "    for edge in edges:\n",
        "        fheappush(fib_heap, edge)\n",
        "\n",
        "    # Continua enquanto houver arestas no heap de Fibonacci\n",
        "    while fib_heap.min is not None:\n",
        "        # Obtém e remove a aresta de menor custo do heap de Fibonacci\n",
        "        cost, frm, to = fheappop(fib_heap)\n",
        "\n",
        "        # Se o nó 'to' ainda não foi visitado\n",
        "        if to not in visited:\n",
        "            visited.add(to)  # Adiciona o nó 'to' ao conjunto de nós visitados\n",
        "            mst.append((frm, to, cost))  # Adiciona a aresta à árvore geradora mínima\n",
        "\n",
        "            # Para cada nó adjacente ao nó 'to'\n",
        "            for to_next, cost2 in graph[to].items():\n",
        "                # Se o nó adjacente ainda não foi visitado\n",
        "                if to_next not in visited:\n",
        "                    # Adiciona a aresta ao heap de Fibonacci\n",
        "                    fheappush(fib_heap, (cost2, to, to_next))\n",
        "\n",
        "    return mst # Retorna a árvore geradora mínima\n"
      ],
      "metadata": {
        "id": "qyC2MvTlVY3Y"
      },
      "execution_count": 5,
      "outputs": []
    },
    {
      "cell_type": "markdown",
      "source": [
        "##Função para ler o arquivo .stp e traduzir para uma estrutura de dicionário representando um grafo"
      ],
      "metadata": {
        "id": "Uirrlubi4nC-"
      }
    },
    {
      "cell_type": "code",
      "source": [
        "def read_stp(filename):\n",
        "    graph = {} #graph será um dicionário cujas chaves são os números dos nós e os valores são outros dicionários que por sua vez têm como chaves os nós ligados aos nós das chaves mais externas e seus valores sendo os pesos das arestas que os interligam\n",
        "    with open(filename, 'r') as file:\n",
        "        for line in file:\n",
        "            if line.startswith('E '): #percorre as linhas do arquivo manipulando apenas as que iniciam com \"E \" indicando ser uma aresta do grafo\n",
        "                data = line.strip().split()\n",
        "                node1 = int(data[1])\n",
        "                node2 = int(data[2])\n",
        "                cost = float(data[3])\n",
        "                if node1 not in graph:\n",
        "                    graph[node1] = {}\n",
        "                if node2 not in graph:\n",
        "                    graph[node2] = {}\n",
        "                graph[node1][node2] = cost\n",
        "                graph[node2][node1] = cost\n",
        "    return graph"
      ],
      "metadata": {
        "id": "WDYn3qNE-meK"
      },
      "execution_count": 6,
      "outputs": []
    },
    {
      "cell_type": "markdown",
      "source": [
        "##Função principal que usa as anteriores para ler o arquivo de entrada, modelar o grafo e retornar a MST"
      ],
      "metadata": {
        "id": "9dN1cXq55Jn2"
      }
    },
    {
      "cell_type": "code",
      "source": [
        "def main():\n",
        "    filename = '/content/dados/dmxa0296.stp'\n",
        "    graph = read_stp(filename)\n",
        "    mst, _ = prim(graph, 1)\n",
        "    print(mst) #A Mst é retornada como uma lista de tuplas, cada tupla contém a aresta que é representada pelos seus vértices interligados e respectivo peso"
      ],
      "metadata": {
        "id": "nGIeuEMK-wnY"
      },
      "execution_count": null,
      "outputs": []
    },
    {
      "cell_type": "code",
      "source": [
        "if __name__ == \"__main__\":\n",
        "    main()"
      ],
      "metadata": {
        "id": "Y-_RPCj5-zJM",
        "colab": {
          "base_uri": "https://localhost:8080/"
        },
        "outputId": "98d35715-45c5-4071-c0b1-7d682a7bb57c"
      },
      "execution_count": null,
      "outputs": [
        {
          "output_type": "stream",
          "name": "stdout",
          "text": [
            "[(1, 2, 5.0), (1, 14, 13.0), (14, 15, 5.0), (15, 27, 13.0), (27, 26, 5.0), (27, 28, 5.0), (28, 29, 5.0), (29, 30, 5.0), (30, 31, 5.0), (31, 32, 5.0), (32, 33, 5.0), (33, 34, 5.0), (27, 40, 13.0), (40, 39, 5.0), (40, 41, 5.0), (41, 42, 5.0), (42, 43, 5.0), (43, 44, 5.0), (44, 45, 5.0), (45, 46, 5.0), (46, 47, 5.0), (47, 48, 5.0), (48, 49, 5.0), (49, 50, 5.0), (50, 51, 5.0), (51, 52, 5.0), (29, 16, 13.0), (16, 17, 5.0), (17, 18, 5.0), (18, 19, 5.0), (19, 20, 5.0), (20, 21, 5.0), (16, 3, 13.0), (3, 4, 5.0), (4, 5, 5.0), (5, 6, 5.0), (6, 7, 5.0), (7, 8, 5.0), (8, 9, 5.0), (9, 10, 5.0), (10, 11, 5.0), (11, 12, 5.0), (12, 13, 5.0), (10, 22, 13.0), (22, 23, 5.0), (23, 24, 5.0), (24, 25, 5.0), (22, 35, 13.0), (35, 36, 5.0), (36, 37, 5.0), (37, 38, 5.0), (39, 53, 13.0), (53, 54, 5.0), (54, 55, 5.0), (55, 56, 5.0), (56, 57, 5.0), (57, 58, 5.0), (58, 59, 5.0), (47, 60, 13.0), (60, 61, 5.0), (61, 62, 5.0), (62, 63, 5.0), (63, 64, 5.0), (64, 65, 5.0), (53, 66, 13.0), (66, 67, 5.0), (67, 68, 5.0), (68, 69, 5.0), (69, 70, 5.0), (70, 71, 5.0), (71, 72, 5.0), (60, 73, 13.0), (62, 74, 13.0), (74, 75, 5.0), (75, 76, 5.0), (76, 77, 5.0), (66, 78, 13.0), (78, 79, 5.0), (79, 80, 5.0), (80, 81, 5.0), (81, 82, 5.0), (82, 83, 5.0), (83, 84, 5.0), (84, 85, 5.0), (85, 86, 5.0), (74, 87, 13.0), (87, 88, 5.0), (88, 89, 5.0), (89, 90, 5.0), (78, 91, 13.0), (91, 92, 5.0), (92, 93, 5.0), (93, 94, 5.0), (94, 95, 5.0), (95, 96, 5.0), (96, 97, 5.0), (97, 98, 5.0), (98, 99, 5.0), (99, 100, 5.0), (100, 101, 5.0), (101, 102, 5.0), (102, 103, 5.0), (103, 104, 5.0), (91, 105, 13.0), (105, 106, 5.0), (106, 107, 5.0), (107, 108, 5.0), (108, 109, 5.0), (109, 110, 5.0), (110, 111, 5.0), (111, 112, 5.0), (112, 113, 5.0), (113, 114, 5.0), (114, 115, 5.0), (115, 116, 5.0), (116, 117, 5.0), (117, 118, 5.0), (107, 121, 13.0), (121, 120, 5.0), (120, 119, 5.0), (121, 122, 5.0), (122, 123, 5.0), (123, 124, 5.0), (124, 125, 5.0), (113, 126, 13.0), (115, 127, 13.0), (127, 128, 5.0), (128, 129, 5.0), (129, 130, 5.0), (122, 131, 13.0), (131, 132, 5.0), (132, 133, 5.0), (133, 134, 5.0), (126, 135, 13.0), (127, 136, 13.0), (136, 137, 5.0), (137, 138, 5.0), (138, 139, 5.0), (131, 143, 13.0), (143, 142, 5.0), (142, 141, 5.0), (141, 140, 5.0), (143, 144, 5.0), (144, 145, 5.0), (145, 146, 5.0), (146, 147, 5.0), (147, 148, 5.0), (148, 149, 5.0), (149, 150, 5.0), (150, 151, 5.0), (151, 152, 5.0), (152, 153, 5.0), (140, 154, 13.0), (154, 155, 5.0), (155, 156, 5.0), (156, 157, 5.0), (157, 158, 5.0), (158, 159, 5.0), (159, 160, 5.0), (160, 161, 5.0), (161, 162, 5.0), (162, 163, 5.0), (163, 164, 5.0), (164, 165, 5.0), (165, 166, 5.0), (166, 167, 5.0), (154, 168, 13.0), (168, 169, 5.0), (169, 170, 5.0), (170, 171, 5.0), (171, 172, 5.0), (172, 173, 5.0), (173, 174, 5.0), (174, 175, 5.0), (175, 176, 5.0), (176, 177, 5.0), (177, 178, 5.0), (178, 179, 5.0), (179, 180, 5.0), (180, 181, 5.0), (168, 182, 13.0), (182, 183, 5.0), (183, 184, 5.0), (184, 185, 5.0), (185, 186, 5.0), (186, 187, 5.0), (187, 188, 5.0), (188, 189, 5.0), (189, 190, 5.0), (190, 191, 5.0), (191, 192, 5.0), (192, 193, 5.0), (181, 194, 13.0), (182, 195, 13.0), (195, 196, 5.0), (196, 197, 5.0), (197, 198, 5.0), (198, 199, 5.0), (199, 200, 5.0), (200, 201, 5.0), (201, 202, 5.0), (202, 203, 5.0), (203, 204, 5.0), (204, 205, 5.0), (205, 206, 5.0), (194, 207, 13.0), (195, 208, 13.0), (208, 209, 5.0), (209, 210, 5.0), (199, 211, 13.0), (211, 212, 5.0), (212, 213, 5.0), (213, 214, 5.0), (214, 215, 5.0), (215, 216, 5.0), (216, 217, 5.0), (217, 218, 5.0), (218, 219, 5.0), (219, 220, 5.0), (208, 221, 13.0), (221, 222, 5.0), (222, 223, 5.0), (211, 224, 13.0), (224, 225, 5.0), (225, 226, 5.0), (226, 227, 5.0), (227, 228, 5.0), (228, 229, 5.0), (229, 230, 5.0), (230, 231, 5.0), (231, 232, 5.0), (232, 233, 5.0)]\n"
          ]
        }
      ]
    },
    {
      "cell_type": "markdown",
      "source": [
        "##Funções para automatizar o treino e plotagem de gráficos"
      ],
      "metadata": {
        "id": "EbtT_-RrFqMg"
      }
    },
    {
      "cell_type": "code",
      "source": [
        "def fheap_Auto(arquivos):\n",
        "  memoryList = [] #Lista das memórias usadas nas execuções para cada entrada\n",
        "  timeList = [] #Lista dos tempos decorridos nas execuções para cada entrada\n",
        "  tracemalloc.start() #inicia a medição de memória\n",
        "  for arquivo in (arquivos): #percorre todos os arquivos passados como entrada\n",
        "    graph = read_stp(arquivo) #traduz o grafo presente no arquivo\n",
        "\n",
        "    start_time = time_ns() #inicia a contagem do tempo da execução atual\n",
        "    mst = prim(graph, 1) #chama a função de prim\n",
        "    totalMemory, _ = tracemalloc.get_traced_memory() #obtém o valor da memória total usada na execução da função\n",
        "    end_time = time_ns() #finaliza a contagem do tempo da execução atual\n",
        "\n",
        "    tracemalloc.reset_peak() #reseta a medição da memória\n",
        "\n",
        "    elapsed_time = end_time - start_time #cálculo do tempo total de execução\n",
        "\n",
        "    memoryList.append(totalMemory) #atualiza a lista de memórias\n",
        "    timeList.append(elapsed_time) #atualiza a lista de tempos\n",
        "\n",
        "  return memoryList, timeList"
      ],
      "metadata": {
        "id": "X130PhSyK4zS"
      },
      "execution_count": 7,
      "outputs": []
    },
    {
      "cell_type": "markdown",
      "source": [
        "###Função para determinar um tempo mínimo de execução dos testes"
      ],
      "metadata": {
        "id": "1rZbsbHOoSYT"
      }
    },
    {
      "cell_type": "code",
      "source": [
        "def loop(arquivos):\n",
        "  fheap_data = {\"memoria\":{}, \"tempo\":{}} #dicionário para guardar os valores médios da medição de tempo e memória\n",
        "\n",
        "  iteracoes = 0 #para contar o número de iterações possibilitando o cálculo de tempo e memória médios\n",
        "  tempo_total = 0 #variável de controle do laço para detectar o cumprimento dos 5 segundos mínimos de execução\n",
        "  tempo_parada = 5*10**9 #constante que representa os 5 segundos (em ns)\n",
        "  memoria_soma = [0]*len(arquivos) #lista para guardar a soma das memórias gastas em cada iteração\n",
        "  memorias = [] #Para guardar as médias das memórias\n",
        "  tempos = [] #Para guardar as médias dos tempos\n",
        "  tempo_soma = [0]*len(arquivos) #lista para guardar a soma dos tempos decorridos em cada iteração\n",
        "  tempo_inicial = time_ns() #início da contagem do tempo relativo aos 5 segundos mínimos de execução\n",
        "  while tempo_total < tempo_parada: #laço para garantir o término das execuções com no mínimo 5 segundos decorridos\n",
        "    memoria, tempo = fheap_Auto(arquivos) #pega as listas de memória e tempo da iteração corrente\n",
        "    memoria_soma = [mem1 + mem2 for mem1, mem2 in zip(memoria_soma, memoria)] #Atualiza a lista das somas das memórias\n",
        "    tempo_soma = [tem1 + tem2 for tem1, tem2 in zip(tempo_soma, tempo)] #Atualiza a lista das somas dos tempos\n",
        "    tempo_final = time_ns() #ponto de verificação do tempo decorrido do laço enquanto\n",
        "    tempo_total = tempo_final - tempo_inicial #cálculo do tempo total decorrido\n",
        "    iteracoes += 1 #incremento do número de iterações\n",
        "\n",
        "  memorias = [item/iteracoes for item in memoria_soma] #calcula a média das memórias\n",
        "  tempos = [item/iteracoes for item in tempo_soma] #calcula a média dos tempos\n",
        "\n",
        "  for arquivo, memoria, tempo in zip(arquivos, memorias, tempos): #Laço para formação do dicionário contendo as informações de memória e tempo médios da base testada\n",
        "    fheap_data['memoria'][arquivo] = memoria\n",
        "    fheap_data['tempo'][arquivo] = tempo\n",
        "\n",
        "  return fheap_data, iteracoes\n",
        "\n",
        "dic_fheap, iteracoes = loop(arquivos2) #execução da função de teste que garante os mínimos 5 segundos de teste\n",
        "\n",
        "with open(f\"fheap_alut({iteracoes}).pkl\", \"wb\") as f:\n",
        "    # Usa a função dump para salvar o dicionário no arquivo\n",
        "    pickle.dump(dic_fheap, f)\n"
      ],
      "metadata": {
        "id": "y8NKel6EpABi"
      },
      "execution_count": 8,
      "outputs": []
    },
    {
      "cell_type": "code",
      "source": [
        "dic_fheap"
      ],
      "metadata": {
        "id": "mFtIxGSRMYSV",
        "colab": {
          "base_uri": "https://localhost:8080/"
        },
        "outputId": "3f8ecb1e-343c-4fb6-a275-5345928fcab4"
      },
      "execution_count": 9,
      "outputs": [
        {
          "output_type": "execute_result",
          "data": {
            "text/plain": [
              "{'memoria': {'/content/dados/alut0787.stp': 577561.0,\n",
              "  '/content/dados/alut0805.stp': 569552.0,\n",
              "  '/content/dados/alut1181.stp': 1598952.0,\n",
              "  '/content/dados/alut2010.stp': 3174877.0,\n",
              "  '/content/dados/alut2288.stp': 4523306.0,\n",
              "  '/content/dados/alut2566.stp': 2560728.0,\n",
              "  '/content/dados/alut2610.stp': 16797639.0,\n",
              "  '/content/dados/alut2625.stp': 18089440.0,\n",
              "  '/content/dados/alut2764.stp': 334611.0},\n",
              " 'tempo': {'/content/dados/alut0787.stp': 97225638.0,\n",
              "  '/content/dados/alut0805.stp': 50916437.0,\n",
              "  '/content/dados/alut1181.stp': 215079143.0,\n",
              "  '/content/dados/alut2010.stp': 548045833.0,\n",
              "  '/content/dados/alut2288.stp': 540964795.0,\n",
              "  '/content/dados/alut2566.stp': 192289444.0,\n",
              "  '/content/dados/alut2610.stp': 2233185105.0,\n",
              "  '/content/dados/alut2625.stp': 2415203045.0,\n",
              "  '/content/dados/alut2764.stp': 56033040.0}}"
            ]
          },
          "metadata": {},
          "execution_count": 9
        }
      ]
    },
    {
      "cell_type": "code",
      "source": [
        "nome_arquivo = f\"fheap_dmxa({iteracoes}).pkl\"\n",
        "with open(nome_arquivo, 'rb') as arquivo:\n",
        "    fheap_time = pickle.load(arquivo)"
      ],
      "metadata": {
        "id": "OMAAnVavQtHj"
      },
      "execution_count": null,
      "outputs": []
    },
    {
      "cell_type": "code",
      "source": [
        "import matplotlib.pyplot as plt\n",
        "\n",
        "x = range(1, len(fheap_time) + 1)\n",
        "y = fheap_time.values()\n",
        "\n",
        "plt.plot(x, y)\n",
        "plt.title('Tempo gasto na execução de Prim usando AVL')\n",
        "plt.xlabel('Dados')\n",
        "plt.ylabel('Tempo(ns)')\n",
        "plt.xticks(x)\n",
        "plt.show()"
      ],
      "metadata": {
        "id": "-2aeDC9cXXbW"
      },
      "execution_count": null,
      "outputs": []
    },
    {
      "cell_type": "code",
      "source": [
        "x = range(1, len(fheap_space) + 1)\n",
        "y = fheap_space.values()\n",
        "\n",
        "plt.plot(x, y)\n",
        "plt.title('Memória gasta na execução de Prim usando AVL')\n",
        "plt.xlabel('Dados')\n",
        "plt.ylabel('Memória(B)')\n",
        "plt.xticks(x)\n",
        "plt.show()\n"
      ],
      "metadata": {
        "id": "6NWZqp22jgTm"
      },
      "execution_count": null,
      "outputs": []
    },
    {
      "cell_type": "markdown",
      "source": [
        "##Exemplo de como é lido e interpretado o grafo de um arquivo de entrada"
      ],
      "metadata": {
        "id": "dTWyqfkn5g8z"
      }
    },
    {
      "cell_type": "code",
      "source": [
        "filename = '/content/dados/dmxa0296.stp'\n",
        "graph = read_stp(filename)"
      ],
      "metadata": {
        "id": "rHdFerZN00Yk"
      },
      "execution_count": null,
      "outputs": []
    },
    {
      "cell_type": "code",
      "source": [
        "for to, cost in graph[1].items():\n",
        "  print(f\"to: {to}; cost: {cost}\")"
      ],
      "metadata": {
        "id": "7jaz8tYL06Hl",
        "colab": {
          "base_uri": "https://localhost:8080/"
        },
        "outputId": "2eed370c-0c14-472c-b42e-72d1da7b69ac"
      },
      "execution_count": null,
      "outputs": [
        {
          "output_type": "stream",
          "name": "stdout",
          "text": [
            "to: 2; cost: 5.0\n",
            "to: 14; cost: 13.0\n"
          ]
        }
      ]
    },
    {
      "cell_type": "code",
      "source": [
        "heap = makefheap()"
      ],
      "metadata": {
        "id": "Cv-fPKS4R3hV"
      },
      "execution_count": null,
      "outputs": []
    },
    {
      "cell_type": "code",
      "source": [
        "fheappush(heap, (2, 4, 5))"
      ],
      "metadata": {
        "id": "iTMxAEPDZxLR"
      },
      "execution_count": null,
      "outputs": []
    },
    {
      "cell_type": "code",
      "source": [
        "fheappush(heap, (1, 3, 6))"
      ],
      "metadata": {
        "id": "WAfpQLGgbsi_"
      },
      "execution_count": null,
      "outputs": []
    },
    {
      "cell_type": "code",
      "source": [
        "fheappush(heap, (3, 5, 9))"
      ],
      "metadata": {
        "id": "RiO5bTDhbmTh"
      },
      "execution_count": null,
      "outputs": []
    },
    {
      "cell_type": "code",
      "source": [
        "getfheapmin(heap)"
      ],
      "metadata": {
        "colab": {
          "base_uri": "https://localhost:8080/"
        },
        "id": "fL2b75tvXd75",
        "outputId": "89e83f3e-f3f7-4388-89b6-29b0af75ed8c"
      },
      "execution_count": null,
      "outputs": [
        {
          "output_type": "execute_result",
          "data": {
            "text/plain": [
              "(3, 5, 9)"
            ]
          },
          "metadata": {},
          "execution_count": 47
        }
      ]
    },
    {
      "cell_type": "code",
      "source": [
        "fheappop(heap)"
      ],
      "metadata": {
        "colab": {
          "base_uri": "https://localhost:8080/"
        },
        "id": "gJBBFJ4wbKeT",
        "outputId": "77718b28-e626-4ee2-8ba3-e531479e2368"
      },
      "execution_count": null,
      "outputs": [
        {
          "output_type": "execute_result",
          "data": {
            "text/plain": [
              "(2, 4, 5)"
            ]
          },
          "metadata": {},
          "execution_count": 46
        }
      ]
    },
    {
      "cell_type": "code",
      "source": [
        "heap.min is None"
      ],
      "metadata": {
        "colab": {
          "base_uri": "https://localhost:8080/"
        },
        "id": "lcm-T5oaaaT-",
        "outputId": "4c154947-9ff7-4d70-b38b-b0f2a48707e6"
      },
      "execution_count": null,
      "outputs": [
        {
          "output_type": "execute_result",
          "data": {
            "text/plain": [
              "False"
            ]
          },
          "metadata": {},
          "execution_count": 32
        }
      ]
    }
  ]
}