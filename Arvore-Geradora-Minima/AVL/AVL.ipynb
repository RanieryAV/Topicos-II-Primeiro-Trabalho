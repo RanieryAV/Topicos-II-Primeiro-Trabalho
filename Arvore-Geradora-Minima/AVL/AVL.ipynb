{
  "nbformat": 4,
  "nbformat_minor": 0,
  "metadata": {
    "colab": {
      "provenance": [],
      "gpuType": "T4",
      "authorship_tag": "ABX9TyN4HRKikBmOCFid+LbmsZuW",
      "include_colab_link": true
    },
    "kernelspec": {
      "name": "python3",
      "display_name": "Python 3"
    },
    "language_info": {
      "name": "python"
    },
    "accelerator": "GPU"
  },
  "cells": [
    {
      "cell_type": "markdown",
      "metadata": {
        "id": "view-in-github",
        "colab_type": "text"
      },
      "source": [
        "<a href=\"https://colab.research.google.com/github/RanieryAV/Topicos-II-Primeiro-Trabalho/blob/main/Arvore-Geradora-Minima/AVL/AVL.ipynb\" target=\"_parent\"><img src=\"https://colab.research.google.com/assets/colab-badge.svg\" alt=\"Open In Colab\"/></a>"
      ]
    },
    {
      "cell_type": "code",
      "execution_count": null,
      "metadata": {
        "id": "-XgKVV68-blS"
      },
      "outputs": [],
      "source": [
        "import sys\n",
        "import pickle\n",
        "import tracemalloc\n",
        "import timeit\n",
        "from time import time_ns\n",
        "import psutil\n",
        "import os"
      ]
    },
    {
      "cell_type": "code",
      "source": [
        "pip install pyavl3"
      ],
      "metadata": {
        "colab": {
          "base_uri": "https://localhost:8080/"
        },
        "id": "rByRbrAARkXC",
        "outputId": "5ff3dd0d-0e58-4f7c-c133-93c1026e668a"
      },
      "execution_count": null,
      "outputs": [
        {
          "output_type": "stream",
          "name": "stdout",
          "text": [
            "Collecting pyavl3\n",
            "  Downloading pyavl3-1.0.0-py3-none-any.whl (8.2 kB)\n",
            "Installing collected packages: pyavl3\n",
            "Successfully installed pyavl3-1.0.0\n"
          ]
        }
      ]
    },
    {
      "cell_type": "code",
      "source": [
        "import pyavl3"
      ],
      "metadata": {
        "id": "t4xRtndFR5Q9"
      },
      "execution_count": null,
      "outputs": []
    },
    {
      "cell_type": "markdown",
      "source": [
        "###Dados"
      ],
      "metadata": {
        "id": "yCK7UQkqgjix"
      }
    },
    {
      "cell_type": "code",
      "source": [
        "arquivos1 = ['/content/dados/alue2087.stp','/content/dados/alue2105.stp','/content/dados/alue3146.stp','/content/dados/alue5067.stp','/content/dados/alue5345.stp','/content/dados/alue5623.stp','/content/dados/alue5901.stp','/content/dados/alue6179.stp','/content/dados/alue6457.stp','/content/dados/alue6735.stp','/content/dados/alue6951.stp','/content/dados/alue7065.stp','/content/dados/alue7066.stp','/content/dados/alue7080.stp', '/content/dados/alue7229.stp']"
      ],
      "metadata": {
        "id": "yMY5eyEigqS8"
      },
      "execution_count": null,
      "outputs": []
    },
    {
      "cell_type": "code",
      "source": [
        "arquivos2 = ['/content/dados/alut0787.stp','/content/dados/alut0805.stp','/content/dados/alut1181.stp','/content/dados/alut2010.stp','/content/dados/alut2288.stp','/content/dados/alut2566.stp','/content/dados/alut2610.stp','/content/dados/alut2625.stp','/content/dados/alut2764.stp']"
      ],
      "metadata": {
        "id": "2d-m7XSpgqbH"
      },
      "execution_count": null,
      "outputs": []
    },
    {
      "cell_type": "code",
      "source": [
        "arquivos3 = ['/content/dados/dmxa0296.stp','/content/dados/dmxa0368.stp','/content/dados/dmxa0454.stp','/content/dados/dmxa0628.stp','/content/dados/dmxa0734.stp','/content/dados/dmxa0848.stp','/content/dados/dmxa0903.stp','/content/dados/dmxa1010.stp','/content/dados/dmxa1109.stp','/content/dados/dmxa1200.stp','/content/dados/dmxa1304.stp','/content/dados/dmxa1516.stp','/content/dados/dmxa1721.stp','/content/dados/dmxa1801.stp']"
      ],
      "metadata": {
        "id": "Svsb9IpvZ__n"
      },
      "execution_count": null,
      "outputs": []
    },
    {
      "cell_type": "markdown",
      "source": [
        "##Função do algoritmo de Prim"
      ],
      "metadata": {
        "id": "xfi3e0e64gc8"
      }
    },
    {
      "cell_type": "code",
      "source": [
        "def prim(graph, start_node):  # Define a função prim\n",
        "    mst = []  # Inicializa a árvore geradora mínima como uma lista vazia\n",
        "    visited = set([start_node])  # Inicializa o conjunto de nós visitados com o nó inicial\n",
        "    avl_tree = pyavl3.AVLTree()  # Cria uma árvore AVL vazia\n",
        "\n",
        "    # Cria uma lista de arestas do nó inicial e seus custos\n",
        "    edges = [\n",
        "        (cost, start_node, to)\n",
        "        for to, cost in graph[start_node].items()\n",
        "    ]\n",
        "\n",
        "    # Insere todas as arestas na árvore AVL com o custo como chave\n",
        "    for edge in edges:\n",
        "        avl_tree[edge] = edge[0]\n",
        "\n",
        "    # Continua enquanto houver arestas na árvore AVL\n",
        "    while len(avl_tree) > 0:\n",
        "        # Obtém e remove a aresta de menor custo da árvore AVL\n",
        "        cost, frm, to = avl_tree._get_min(avl_tree.root).key\n",
        "        avl_tree.pop((cost, frm, to))\n",
        "\n",
        "        # Se o nó 'to' ainda não foi visitado\n",
        "        if to not in visited:\n",
        "            visited.add(to)  # Adiciona o nó 'to' ao conjunto de nós visitados\n",
        "            mst.append((frm, to, cost))  # Adiciona a aresta à árvore geradora mínima\n",
        "\n",
        "            # Para cada nó adjacente ao nó 'to'\n",
        "            for to_next, cost2 in graph[to].items():\n",
        "                # Se o nó adjacente ainda não foi visitado\n",
        "                if to_next not in visited:\n",
        "                    # Adiciona a aresta à árvore AVL\n",
        "                    avl_tree[(cost2, to, to_next)] = cost2\n",
        "\n",
        "    return mst # Retorna a árvore geradora mínima"
      ],
      "metadata": {
        "id": "qyC2MvTlVY3Y"
      },
      "execution_count": null,
      "outputs": []
    },
    {
      "cell_type": "markdown",
      "source": [
        "##Função para ler o arquivo .stp e traduzir para uma estrutura de dicionário representando um grafo"
      ],
      "metadata": {
        "id": "Uirrlubi4nC-"
      }
    },
    {
      "cell_type": "code",
      "source": [
        "def read_stp(filename):\n",
        "    graph = {} #graph será um dicionário cujas chaves são os números dos nós e os valores são outros dicionários que por sua vez têm como chaves os nós ligados aos nós das chaves mais externas e seus valores sendo os pesos das arestas que os interligam\n",
        "    with open(filename, 'r') as file:\n",
        "        for line in file:\n",
        "            if line.startswith('E '): #percorre as linhas do arquivo manipulando apenas as que iniciam com \"E \" indicando ser uma aresta do grafo\n",
        "                data = line.strip().split()\n",
        "                node1 = int(data[1])\n",
        "                node2 = int(data[2])\n",
        "                cost = float(data[3])\n",
        "                if node1 not in graph:\n",
        "                    graph[node1] = {}\n",
        "                if node2 not in graph:\n",
        "                    graph[node2] = {}\n",
        "                graph[node1][node2] = cost\n",
        "                graph[node2][node1] = cost\n",
        "    return graph"
      ],
      "metadata": {
        "id": "WDYn3qNE-meK"
      },
      "execution_count": null,
      "outputs": []
    },
    {
      "cell_type": "markdown",
      "source": [
        "##Função principal que usa as anteriores para ler o arquivo de entrada, modelar o grafo e retornar a MST"
      ],
      "metadata": {
        "id": "9dN1cXq55Jn2"
      }
    },
    {
      "cell_type": "code",
      "source": [
        "def main():\n",
        "    filename = '/content/dmxa0296.stp'\n",
        "    graph = read_stp(filename)\n",
        "    mst, _ = prim(graph, 1)\n",
        "    print(mst) #A Mst é retornada como uma lista de tuplas, cada tupla contém a aresta que é representada pelos seus vértices interligados e respectivo peso"
      ],
      "metadata": {
        "id": "nGIeuEMK-wnY"
      },
      "execution_count": null,
      "outputs": []
    },
    {
      "cell_type": "code",
      "source": [
        "if __name__ == \"__main__\":\n",
        "    main()"
      ],
      "metadata": {
        "id": "Y-_RPCj5-zJM"
      },
      "execution_count": null,
      "outputs": []
    },
    {
      "cell_type": "code",
      "source": [
        "len(mst)"
      ],
      "metadata": {
        "id": "KMRHn3VGlHAj"
      },
      "execution_count": null,
      "outputs": []
    },
    {
      "cell_type": "markdown",
      "source": [
        "##Funções para automatizar o treino e plotagem de gráficos"
      ],
      "metadata": {
        "id": "EbtT_-RrFqMg"
      }
    },
    {
      "cell_type": "code",
      "source": [
        "def avl_dataAuto(arquivos):\n",
        "  memoryList = [] #Lista das memórias usadas nas execuções para cada entrada\n",
        "  timeList = [] #Lista dos tempos decorridos nas execuções para cada entrada\n",
        "  tracemalloc.start() #inicia a medição de memória\n",
        "  for arquivo in (arquivos): #percorre todos os arquivos passados como entrada\n",
        "    graph = read_stp(arquivo) #traduz o grafo presente no arquivo\n",
        "\n",
        "    start_time = time_ns() #inicia a contagem do tempo da execução atual\n",
        "    mst = prim(graph, 1) #chama a função de prim\n",
        "    totalMemory, _ = tracemalloc.get_traced_memory() #obtém o valor da memória total usada na execução da função\n",
        "    end_time = time_ns() #finaliza a contagem do tempo da execução atual\n",
        "\n",
        "    tracemalloc.reset_peak() #reseta a medição da memória\n",
        "\n",
        "    elapsed_time = end_time - start_time #cálculo do tempo total de execução\n",
        "\n",
        "    memoryList.append(totalMemory) #atualiza a lista de memórias\n",
        "    timeList.append(elapsed_time) #atualiza a lista de tempos\n",
        "\n",
        "  return memoryList, timeList"
      ],
      "metadata": {
        "id": "X130PhSyK4zS"
      },
      "execution_count": null,
      "outputs": []
    },
    {
      "cell_type": "markdown",
      "source": [
        "###Função para determinar um tempo mínimo de execução dos testes"
      ],
      "metadata": {
        "id": "1rZbsbHOoSYT"
      }
    },
    {
      "cell_type": "code",
      "source": [
        "def loop(arquivos):\n",
        "  avl_data = {\"memoria\":{}, \"tempo\":{}} #dicionário para guardar os valores médios da medição de tempo e memória\n",
        "\n",
        "  iteracoes = 0 #para contar o número de iterações possibilitando o cálculo de tempo e memória médios\n",
        "  tempo_total = 0 #variável de controle do laço para detectar o cumprimento dos 5 segundos mínimos de execução\n",
        "  tempo_parada = 5*10**9 #constante que representa os 5 segundos (em ns)\n",
        "  memoria_soma = [0]*len(arquivos) #lista para guardar a soma das memórias gastas em cada iteração\n",
        "  memorias = [] #Para guardar as médias das memórias\n",
        "  tempos = [] #Para guardar as médias dos tempos\n",
        "  tempo_soma = [0]*len(arquivos) #lista para guardar a soma dos tempos decorridos em cada iteração\n",
        "  tempo_inicial = time_ns() #início da contagem do tempo relativo aos 5 segundos mínimos de execução\n",
        "  while tempo_total < tempo_parada: #laço para garantir o término das execuções com no mínimo 5 segundos decorridos\n",
        "    memoria, tempo = avl_dataAuto(arquivos) #pega as listas de memória e tempo da iteração corrente\n",
        "    memoria_soma = [mem1 + mem2 for mem1, mem2 in zip(memoria_soma, memoria)] #Atualiza a lista das somas das memórias\n",
        "    tempo_soma = [tem1 + tem2 for tem1, tem2 in zip(tempo_soma, tempo)] #Atualiza a lista das somas dos tempos\n",
        "    tempo_final = time_ns() #ponto de verificação do tempo decorrido do laço enquanto\n",
        "    tempo_total = tempo_final - tempo_inicial #cálculo do tempo total decorrido\n",
        "    iteracoes += 1 #incremento do número de iterações\n",
        "\n",
        "  memorias = [item/iteracoes for item in memoria_soma] #calcula a média das memórias\n",
        "  tempos = [item/iteracoes for item in tempo_soma] #calcula a média dos tempos\n",
        "\n",
        "  for arquivo, memoria, tempo in zip(arquivos, memorias, tempos): #Laço para formação do dicionário contendo as informações de memória e tempo médios da base testada\n",
        "    avl_data['memoria'][arquivo] = memoria\n",
        "    avl_data['tempo'][arquivo] = tempo\n",
        "\n",
        "  return avl_data, iteracoes\n",
        "\n",
        "dic_avl, iteracoes = loop(arquivos2) #execução da função de teste que garante os mínimos 5 segundos de teste\n",
        "\n",
        "with open(f\"avl_alut({iteracoes}).pkl\", \"wb\") as f:\n",
        "    # Usa a função dump para salvar o dicionário no arquivo\n",
        "    pickle.dump(dic_avl, f)\n"
      ],
      "metadata": {
        "id": "y8NKel6EpABi"
      },
      "execution_count": null,
      "outputs": []
    },
    {
      "cell_type": "code",
      "source": [
        "dic_avl"
      ],
      "metadata": {
        "id": "K33eJ8jYblXA",
        "colab": {
          "base_uri": "https://localhost:8080/"
        },
        "outputId": "7bf5f585-3d54-4dd0-84a6-8d8e015981e7"
      },
      "execution_count": null,
      "outputs": [
        {
          "output_type": "execute_result",
          "data": {
            "text/plain": [
              "{'memoria': {'/content/dados/alut0787.stp': 550698.0,\n",
              "  '/content/dados/alut0805.stp': 544434.0,\n",
              "  '/content/dados/alut1181.stp': 1609893.0,\n",
              "  '/content/dados/alut2010.stp': 3193582.0,\n",
              "  '/content/dados/alut2288.stp': 4555616.0,\n",
              "  '/content/dados/alut2566.stp': 2596207.0,\n",
              "  '/content/dados/alut2610.stp': 16834361.0,\n",
              "  '/content/dados/alut2625.stp': 18137433.0,\n",
              "  '/content/dados/alut2764.stp': 382268.0},\n",
              " 'tempo': {'/content/dados/alut0787.stp': 219474640.0,\n",
              "  '/content/dados/alut0805.stp': 149011582.0,\n",
              "  '/content/dados/alut1181.stp': 600609300.0,\n",
              "  '/content/dados/alut2010.stp': 1267798381.0,\n",
              "  '/content/dados/alut2288.stp': 1897966637.0,\n",
              "  '/content/dados/alut2566.stp': 1582749239.0,\n",
              "  '/content/dados/alut2610.stp': 7860923753.0,\n",
              "  '/content/dados/alut2625.stp': 9342545866.0,\n",
              "  '/content/dados/alut2764.stp': 88876498.0}}"
            ]
          },
          "metadata": {},
          "execution_count": 10
        }
      ]
    },
    {
      "cell_type": "code",
      "source": [
        "nome_arquivo = f\"avl_alue({iteracoes}).pkl\"\n",
        "with open(nome_arquivo, 'rb') as arquivo:\n",
        "    avl_time = pickle.load(arquivo)"
      ],
      "metadata": {
        "id": "OMAAnVavQtHj"
      },
      "execution_count": null,
      "outputs": []
    },
    {
      "cell_type": "code",
      "source": [
        "import matplotlib.pyplot as plt\n",
        "\n",
        "x = range(1, len(avl_time) + 1)\n",
        "y = avl_time.values()\n",
        "\n",
        "plt.plot(x, y)\n",
        "plt.title('Tempo gasto na execução de Prim usando AVL')\n",
        "plt.xlabel('Dados')\n",
        "plt.ylabel('Tempo(ns)')\n",
        "plt.xticks(x)\n",
        "plt.show()"
      ],
      "metadata": {
        "id": "-2aeDC9cXXbW"
      },
      "execution_count": null,
      "outputs": []
    },
    {
      "cell_type": "code",
      "source": [
        "x = range(1, len(avl_space) + 1)\n",
        "y = avl_space.values()\n",
        "\n",
        "plt.plot(x, y)\n",
        "plt.title('Memória gasta na execução de Prim usando AVL')\n",
        "plt.xlabel('Dados')\n",
        "plt.ylabel('Memória(B)')\n",
        "plt.xticks(x)\n",
        "plt.show()\n"
      ],
      "metadata": {
        "id": "6NWZqp22jgTm"
      },
      "execution_count": null,
      "outputs": []
    },
    {
      "cell_type": "markdown",
      "source": [
        "##Exemplo de como é lido e interpretado o grafo de um arquivo de entrada"
      ],
      "metadata": {
        "id": "dTWyqfkn5g8z"
      }
    },
    {
      "cell_type": "code",
      "source": [
        "filename = '/content/dmxa0296.stp'\n",
        "graph = read_stp(filename)"
      ],
      "metadata": {
        "id": "rHdFerZN00Yk"
      },
      "execution_count": null,
      "outputs": []
    },
    {
      "cell_type": "code",
      "source": [
        "for to, cost in graph[1].items():\n",
        "  print(f\"to: {to}; cost: {cost}\")"
      ],
      "metadata": {
        "id": "7jaz8tYL06Hl",
        "colab": {
          "base_uri": "https://localhost:8080/"
        },
        "outputId": "2eed370c-0c14-472c-b42e-72d1da7b69ac"
      },
      "execution_count": null,
      "outputs": [
        {
          "output_type": "stream",
          "name": "stdout",
          "text": [
            "to: 2; cost: 5.0\n",
            "to: 14; cost: 13.0\n"
          ]
        }
      ]
    },
    {
      "cell_type": "code",
      "source": [
        "#avl_tree.update(graph)\n",
        "avl_tree = pyavl3.AVLTree()\n",
        "\n",
        "# Adiciona alguns nós à árvore AVL\n",
        "avl_tree[1] = 2\n",
        "avl_tree[2] = 4\n",
        "avl_tree[3] = 5\n",
        "avl_tree[4] = 3"
      ],
      "metadata": {
        "id": "O0dbjhcwR7gK"
      },
      "execution_count": null,
      "outputs": []
    },
    {
      "cell_type": "code",
      "source": [
        "print(avl_tree)"
      ],
      "metadata": {
        "colab": {
          "base_uri": "https://localhost:8080/"
        },
        "id": "WzWnzKZtSMbR",
        "outputId": "7cf8d268-adbf-4e3d-b7ca-0abba0d401d3"
      },
      "execution_count": null,
      "outputs": [
        {
          "output_type": "stream",
          "name": "stdout",
          "text": [
            "<AVL {3: 5, 2: 4, 4: 3}>\n"
          ]
        }
      ]
    },
    {
      "cell_type": "code",
      "source": [
        "avl_tree.pop(1) #Remove a chave e retorna o valor"
      ],
      "metadata": {
        "colab": {
          "base_uri": "https://localhost:8080/"
        },
        "id": "rYVFaYHvNiMo",
        "outputId": "9d333df4-3c89-45db-eab7-f2ae66874096"
      },
      "execution_count": null,
      "outputs": [
        {
          "output_type": "execute_result",
          "data": {
            "text/plain": [
              "2"
            ]
          },
          "metadata": {},
          "execution_count": 24
        }
      ]
    },
    {
      "cell_type": "code",
      "source": [
        "avl_tree._get_min(avl_tree.root).value #valor na menor chave, mas trocar value por key retorna a mínima chave"
      ],
      "metadata": {
        "colab": {
          "base_uri": "https://localhost:8080/"
        },
        "id": "LPch_FiPJTXc",
        "outputId": "aac10c87-5c8a-4650-d821-4f28b08116e9"
      },
      "execution_count": null,
      "outputs": [
        {
          "output_type": "execute_result",
          "data": {
            "text/plain": [
              "2"
            ]
          },
          "metadata": {},
          "execution_count": 23
        }
      ]
    },
    {
      "cell_type": "code",
      "source": [
        "#Encontrar o mínimo valor na arvore\n",
        "def find_min(tree):\n",
        "    node = tree.root\n",
        "    while node.left is not None:\n",
        "        node = node.left\n",
        "    return node.key, node.value"
      ],
      "metadata": {
        "colab": {
          "base_uri": "https://localhost:8080/"
        },
        "id": "GGZyXC1FUXLK",
        "outputId": "be7f8b62-5251-4b69-e1fe-e3a7a5905273"
      },
      "execution_count": null,
      "outputs": [
        {
          "output_type": "execute_result",
          "data": {
            "text/plain": [
              "<Node key=54, value={40: 13.0, 53: 5.0, 55: 5.0, 67: 13.0}, height=6>"
            ]
          },
          "metadata": {},
          "execution_count": 18
        }
      ]
    },
    {
      "cell_type": "code",
      "source": [
        "avl_tree.copy"
      ],
      "metadata": {
        "colab": {
          "base_uri": "https://localhost:8080/"
        },
        "id": "aENjU5zgUM9A",
        "outputId": "30dc7155-7a7d-4763-b04e-660fca5b7f5f"
      },
      "execution_count": null,
      "outputs": [
        {
          "output_type": "execute_result",
          "data": {
            "text/plain": [
              "{1: 5.0, 15: 13.0}"
            ]
          },
          "metadata": {},
          "execution_count": 23
        }
      ]
    },
    {
      "cell_type": "code",
      "source": [
        "tempo_total = 0 #variável de controle do laço para detectar o cumprimento dos 5 segundos mínimos de execução\n",
        "tempo_parada = 5*10**9 #constante que representa os 5 segundos (em ns)\n",
        "tempo_inicial = time_ns() #início da contagem do tempo relativo aos 5 segundos mínimos de execução\n",
        "while tempo_total < tempo_parada: #laço para garantir o término das execuções com no mínimo 5 segundos decorridos\n",
        "  for i in range(1000):\n",
        "    pass\n",
        "  tempo_final = time_ns() #ponto de verificação do tempo decorrido do laço enquanto\n",
        "  tempo_total = tempo_final - tempo_inicial #cálculo do tempo total decorrido"
      ],
      "metadata": {
        "id": "rZE6pfcM8lp8"
      },
      "execution_count": null,
      "outputs": []
    }
  ]
}