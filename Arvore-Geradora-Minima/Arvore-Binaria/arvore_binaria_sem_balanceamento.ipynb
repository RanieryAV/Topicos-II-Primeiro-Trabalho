{
  "cells": [
    {
      "cell_type": "markdown",
      "metadata": {
        "id": "JqWVpv2kdsMo"
      },
      "source": [
        "Instalar e importar biblioteca que implementa heaps (filas de prioridade) e árvores binárias de busca"
      ]
    },
    {
      "cell_type": "code",
      "execution_count": 67,
      "metadata": {
        "colab": {
          "base_uri": "https://localhost:8080/"
        },
        "id": "fiLrVOHldP5f",
        "outputId": "716030ec-a805-46af-d04b-29a3d7804e89"
      },
      "outputs": [],
      "source": [
        "#%pip install binarytree --upgrade"
      ]
    },
    {
      "cell_type": "code",
      "execution_count": 68,
      "metadata": {
        "id": "lxXMR9lweWJ4"
      },
      "outputs": [],
      "source": [
        "#from binarytree import tree"
      ]
    },
    {
      "cell_type": "markdown",
      "metadata": {
        "id": "7OeYwq1MstZe"
      },
      "source": [
        "Função para ler o arquivo .stp e traduzir para uma estrutura de dicionário representando um grafo"
      ]
    },
    {
      "cell_type": "code",
      "execution_count": 69,
      "metadata": {
        "id": "xpribXKHsuHW"
      },
      "outputs": [],
      "source": [
        "import os\n",
        "\n",
        "def read_stp(filename):\n",
        "    graph = {}\n",
        "    with open(filename, 'r') as file:\n",
        "        for line in file:\n",
        "            if line.startswith('E '):\n",
        "                data = line.strip().split()\n",
        "                node1 = int(data[1])\n",
        "                node2 = int(data[2])\n",
        "                cost = float(data[3])\n",
        "                if node1 not in graph:\n",
        "                    graph[node1] = []\n",
        "                if node2 not in graph:\n",
        "                    graph[node2] = []\n",
        "                graph[node1].append((node2, cost))\n",
        "                graph[node2].append((node1, cost))\n",
        "    return graph"
      ]
    },
    {
      "cell_type": "code",
      "execution_count": 70,
      "metadata": {},
      "outputs": [],
      "source": [
        "import timeit\n",
        "from time import time_ns\n",
        "import psutil\n",
        "import os\n",
        "\n",
        "def process_memory():\n",
        "    process = psutil.Process(os.getpid())\n",
        "    mem_info = process.memory_info()\n",
        "    return mem_info.rss"
      ]
    },
    {
      "cell_type": "markdown",
      "metadata": {
        "id": "ooUChhNwmFuK"
      },
      "source": [
        "Código que lê os grafos de árvore binária de busca para o algoritmo de Prim"
      ]
    },
    {
      "cell_type": "code",
      "execution_count": 71,
      "metadata": {
        "colab": {
          "base_uri": "https://localhost:8080/"
        },
        "id": "zzg6mlzJhx2s",
        "outputId": "bd6cbe8a-4a38-4678-fd38-77aee8a0c068"
      },
      "outputs": [
        {
          "name": "stdout",
          "output_type": "stream",
          "text": [
            "Minimum Spanning Tree 1:\n"
          ]
        },
        {
          "ename": "AttributeError",
          "evalue": "'tuple' object has no attribute 'items'",
          "output_type": "error",
          "traceback": [
            "\u001b[1;31m---------------------------------------------------------------------------\u001b[0m",
            "\u001b[1;31mAttributeError\u001b[0m                            Traceback (most recent call last)",
            "\u001b[1;32mc:\\Users\\ranie\\Documents\\GitHub\\Topicos-II-Primeiro-Trabalho\\Arvore-Geradora-Minima\\Arvore-Binaria\\arvore_binaria_sem_balanceamento.ipynb Célula 8\u001b[0m line \u001b[0;36m5\n\u001b[0;32m     <a href='vscode-notebook-cell:/c%3A/Users/ranie/Documents/GitHub/Topicos-II-Primeiro-Trabalho/Arvore-Geradora-Minima/Arvore-Binaria/arvore_binaria_sem_balanceamento.ipynb#W6sZmlsZQ%3D%3D?line=55'>56</a>\u001b[0m     \u001b[39mprint\u001b[39m(\u001b[39m\"\u001b[39m\u001b[39mMST 1 is empty.\u001b[39m\u001b[39m\"\u001b[39m)\n\u001b[0;32m     <a href='vscode-notebook-cell:/c%3A/Users/ranie/Documents/GitHub/Topicos-II-Primeiro-Trabalho/Arvore-Geradora-Minima/Arvore-Binaria/arvore_binaria_sem_balanceamento.ipynb#W6sZmlsZQ%3D%3D?line=56'>57</a>\u001b[0m \u001b[39melse\u001b[39;00m:\n\u001b[1;32m---> <a href='vscode-notebook-cell:/c%3A/Users/ranie/Documents/GitHub/Topicos-II-Primeiro-Trabalho/Arvore-Geradora-Minima/Arvore-Binaria/arvore_binaria_sem_balanceamento.ipynb#W6sZmlsZQ%3D%3D?line=57'>58</a>\u001b[0m     print_mst(mst1)\n\u001b[0;32m     <a href='vscode-notebook-cell:/c%3A/Users/ranie/Documents/GitHub/Topicos-II-Primeiro-Trabalho/Arvore-Geradora-Minima/Arvore-Binaria/arvore_binaria_sem_balanceamento.ipynb#W6sZmlsZQ%3D%3D?line=59'>60</a>\u001b[0m \u001b[39mprint\u001b[39m(\u001b[39m\"\u001b[39m\u001b[39m\\n\u001b[39;00m\u001b[39mMinimum Spanning Tree 2:\u001b[39m\u001b[39m\"\u001b[39m)\n\u001b[0;32m     <a href='vscode-notebook-cell:/c%3A/Users/ranie/Documents/GitHub/Topicos-II-Primeiro-Trabalho/Arvore-Geradora-Minima/Arvore-Binaria/arvore_binaria_sem_balanceamento.ipynb#W6sZmlsZQ%3D%3D?line=60'>61</a>\u001b[0m \u001b[39mif\u001b[39;00m \u001b[39mnot\u001b[39;00m mst2:\n",
            "\u001b[1;32mc:\\Users\\ranie\\Documents\\GitHub\\Topicos-II-Primeiro-Trabalho\\Arvore-Geradora-Minima\\Arvore-Binaria\\arvore_binaria_sem_balanceamento.ipynb Célula 8\u001b[0m line \u001b[0;36m4\n\u001b[0;32m     <a href='vscode-notebook-cell:/c%3A/Users/ranie/Documents/GitHub/Topicos-II-Primeiro-Trabalho/Arvore-Geradora-Minima/Arvore-Binaria/arvore_binaria_sem_balanceamento.ipynb#W6sZmlsZQ%3D%3D?line=47'>48</a>\u001b[0m \u001b[39mdef\u001b[39;00m \u001b[39mprint_mst\u001b[39m(mst):\n\u001b[1;32m---> <a href='vscode-notebook-cell:/c%3A/Users/ranie/Documents/GitHub/Topicos-II-Primeiro-Trabalho/Arvore-Geradora-Minima/Arvore-Binaria/arvore_binaria_sem_balanceamento.ipynb#W6sZmlsZQ%3D%3D?line=48'>49</a>\u001b[0m     \u001b[39mfor\u001b[39;00m node, edges \u001b[39min\u001b[39;00m mst\u001b[39m.\u001b[39;49mitems():\n\u001b[0;32m     <a href='vscode-notebook-cell:/c%3A/Users/ranie/Documents/GitHub/Topicos-II-Primeiro-Trabalho/Arvore-Geradora-Minima/Arvore-Binaria/arvore_binaria_sem_balanceamento.ipynb#W6sZmlsZQ%3D%3D?line=49'>50</a>\u001b[0m         \u001b[39mprint\u001b[39m(\u001b[39mf\u001b[39m\u001b[39m\"\u001b[39m\u001b[39mNode \u001b[39m\u001b[39m{\u001b[39;00mnode\u001b[39m}\u001b[39;00m\u001b[39m:\u001b[39m\u001b[39m\"\u001b[39m)\n\u001b[0;32m     <a href='vscode-notebook-cell:/c%3A/Users/ranie/Documents/GitHub/Topicos-II-Primeiro-Trabalho/Arvore-Geradora-Minima/Arvore-Binaria/arvore_binaria_sem_balanceamento.ipynb#W6sZmlsZQ%3D%3D?line=50'>51</a>\u001b[0m         \u001b[39mfor\u001b[39;00m neighbor, weight \u001b[39min\u001b[39;00m edges\u001b[39m.\u001b[39mitems():\n",
            "\u001b[1;31mAttributeError\u001b[0m: 'tuple' object has no attribute 'items'"
          ]
        }
      ],
      "source": [
        "from collections import defaultdict\n",
        "\n",
        "# Prim's algorithm to find MST\n",
        "def prim(graph):\n",
        "    mem_before = process_memory() #Pega a memória inicial\n",
        "    visited = set()  # Set to keep track of visited nodes\n",
        "    mst = defaultdict(dict)  # Dictionary to store the MST\n",
        "    start_node = list(graph.keys())[0]  # Start from any node\n",
        "\n",
        "    # Priority queue to store edges with weights\n",
        "    priority_queue = [(start_node, None, 0)]\n",
        "\n",
        "    while priority_queue:\n",
        "        node, parent, weight = priority_queue.pop(0)  # Get the edge with the lowest weight\n",
        "        if node not in visited:\n",
        "            visited.add(node)  # Mark the current node as visited\n",
        "            if parent is not None:\n",
        "                mst[parent][node] = weight  # Add the edge to the MST\n",
        "                mst[node][parent] = weight\n",
        "            for neighbor, edge_weight in graph[node]:\n",
        "                if neighbor not in visited:\n",
        "                    priority_queue.append((neighbor, node, edge_weight))  # Add neighboring edges to the priority queue\n",
        "            priority_queue.sort(key=lambda x: x[2])  # Sort the priority queue based on edge weights\n",
        "    mem_after = process_memory() #Pega a memória final\n",
        "    mem_used = mem_after - mem_before  #Calcula a memória consumida em bytes\n",
        "    return mst,mem_used\n",
        "\n",
        "# Example input graphs as dictionaries\n",
        "graph1 = {\n",
        "    'A': [('B', 2), ('C', 1)],\n",
        "    'B': [('A', 2), ('D', 3), ('E', 1)],\n",
        "    'C': [('A', 1)],\n",
        "    'D': [('B', 3)],\n",
        "    'E': [('B', 1)]\n",
        "}\n",
        "\n",
        "graph2 = {\n",
        "    'A': [('B', 2), ('C', 3)],\n",
        "    'B': [('A', 2), ('C', 1), ('D', 1)],\n",
        "    'C': [('A', 3), ('B', 1), ('D', 2)],\n",
        "    'D': [('B', 1), ('C', 2)]\n",
        "}\n",
        "\n",
        "# Find MST for graph1 and graph2\n",
        "mst1 = prim(graph1)\n",
        "mst2 = prim(graph2)\n",
        "\n",
        "def print_mst(mst):\n",
        "    for node, edges in mst.items():\n",
        "        print(f\"Node {node}:\")\n",
        "        for neighbor, weight in edges.items():\n",
        "            print(f\"  -> Neighbor {neighbor}, Weight {weight}\")\n",
        "\n",
        "print(\"Minimum Spanning Tree 1:\")\n",
        "if not mst1:\n",
        "    print(\"MST 1 is empty.\")\n",
        "else:\n",
        "    print_mst(mst1)\n",
        "\n",
        "print(\"\\nMinimum Spanning Tree 2:\")\n",
        "if not mst2:\n",
        "    print(\"MST 2 is empty.\")\n",
        "else:\n",
        "    print_mst(mst2)\n"
      ]
    },
    {
      "cell_type": "markdown",
      "metadata": {
        "id": "CQhr91CxtA1U"
      },
      "source": [
        "Tentar conectar o código acima com o outro código que faz a leitura das entradas .stp"
      ]
    },
    {
      "cell_type": "code",
      "execution_count": null,
      "metadata": {
        "colab": {
          "base_uri": "https://localhost:8080/"
        },
        "id": "uidYf1cXoa31",
        "outputId": "55401dc4-8566-483b-9a14-5e2785f05e3f"
      },
      "outputs": [
        {
          "ename": "FileNotFoundError",
          "evalue": "[Errno 2] No such file or directory: '/content/alue2087.stp'",
          "output_type": "error",
          "traceback": [
            "\u001b[1;31m---------------------------------------------------------------------------\u001b[0m",
            "\u001b[1;31mFileNotFoundError\u001b[0m                         Traceback (most recent call last)",
            "\u001b[1;32mc:\\Users\\ranie\\Documents\\GitHub\\Topicos-II-Primeiro-Trabalho\\Arvore-Geradora-Minima\\Arvore-Binaria\\arvore_binaria_sem_balanceamento.ipynb Célula 10\u001b[0m line \u001b[0;36m2\n\u001b[0;32m      <a href='vscode-notebook-cell:/c%3A/Users/ranie/Documents/GitHub/Topicos-II-Primeiro-Trabalho/Arvore-Geradora-Minima/Arvore-Binaria/arvore_binaria_sem_balanceamento.ipynb#X11sZmlsZQ%3D%3D?line=0'>1</a>\u001b[0m filename \u001b[39m=\u001b[39m \u001b[39m'\u001b[39m\u001b[39m/content/alue2087.stp\u001b[39m\u001b[39m'\u001b[39m\n\u001b[1;32m----> <a href='vscode-notebook-cell:/c%3A/Users/ranie/Documents/GitHub/Topicos-II-Primeiro-Trabalho/Arvore-Geradora-Minima/Arvore-Binaria/arvore_binaria_sem_balanceamento.ipynb#X11sZmlsZQ%3D%3D?line=1'>2</a>\u001b[0m example_graph \u001b[39m=\u001b[39m read_stp(filename)\n\u001b[0;32m      <a href='vscode-notebook-cell:/c%3A/Users/ranie/Documents/GitHub/Topicos-II-Primeiro-Trabalho/Arvore-Geradora-Minima/Arvore-Binaria/arvore_binaria_sem_balanceamento.ipynb#X11sZmlsZQ%3D%3D?line=2'>3</a>\u001b[0m \u001b[39mprint\u001b[39m(example_graph)\n\u001b[0;32m      <a href='vscode-notebook-cell:/c%3A/Users/ranie/Documents/GitHub/Topicos-II-Primeiro-Trabalho/Arvore-Geradora-Minima/Arvore-Binaria/arvore_binaria_sem_balanceamento.ipynb#X11sZmlsZQ%3D%3D?line=3'>4</a>\u001b[0m mst_for_example_graph \u001b[39m=\u001b[39m prim(example_graph)\n",
            "\u001b[1;32mc:\\Users\\ranie\\Documents\\GitHub\\Topicos-II-Primeiro-Trabalho\\Arvore-Geradora-Minima\\Arvore-Binaria\\arvore_binaria_sem_balanceamento.ipynb Célula 10\u001b[0m line \u001b[0;36m5\n\u001b[0;32m      <a href='vscode-notebook-cell:/c%3A/Users/ranie/Documents/GitHub/Topicos-II-Primeiro-Trabalho/Arvore-Geradora-Minima/Arvore-Binaria/arvore_binaria_sem_balanceamento.ipynb#X11sZmlsZQ%3D%3D?line=2'>3</a>\u001b[0m \u001b[39mdef\u001b[39;00m \u001b[39mread_stp\u001b[39m(filename):\n\u001b[0;32m      <a href='vscode-notebook-cell:/c%3A/Users/ranie/Documents/GitHub/Topicos-II-Primeiro-Trabalho/Arvore-Geradora-Minima/Arvore-Binaria/arvore_binaria_sem_balanceamento.ipynb#X11sZmlsZQ%3D%3D?line=3'>4</a>\u001b[0m     graph \u001b[39m=\u001b[39m {}\n\u001b[1;32m----> <a href='vscode-notebook-cell:/c%3A/Users/ranie/Documents/GitHub/Topicos-II-Primeiro-Trabalho/Arvore-Geradora-Minima/Arvore-Binaria/arvore_binaria_sem_balanceamento.ipynb#X11sZmlsZQ%3D%3D?line=4'>5</a>\u001b[0m     \u001b[39mwith\u001b[39;00m \u001b[39mopen\u001b[39;49m(filename, \u001b[39m'\u001b[39;49m\u001b[39mr\u001b[39;49m\u001b[39m'\u001b[39;49m) \u001b[39mas\u001b[39;00m file:\n\u001b[0;32m      <a href='vscode-notebook-cell:/c%3A/Users/ranie/Documents/GitHub/Topicos-II-Primeiro-Trabalho/Arvore-Geradora-Minima/Arvore-Binaria/arvore_binaria_sem_balanceamento.ipynb#X11sZmlsZQ%3D%3D?line=5'>6</a>\u001b[0m         \u001b[39mfor\u001b[39;00m line \u001b[39min\u001b[39;00m file:\n\u001b[0;32m      <a href='vscode-notebook-cell:/c%3A/Users/ranie/Documents/GitHub/Topicos-II-Primeiro-Trabalho/Arvore-Geradora-Minima/Arvore-Binaria/arvore_binaria_sem_balanceamento.ipynb#X11sZmlsZQ%3D%3D?line=6'>7</a>\u001b[0m             \u001b[39mif\u001b[39;00m line\u001b[39m.\u001b[39mstartswith(\u001b[39m'\u001b[39m\u001b[39mE \u001b[39m\u001b[39m'\u001b[39m):\n",
            "File \u001b[1;32m~\\AppData\\Roaming\\Python\\Python311\\site-packages\\IPython\\core\\interactiveshell.py:286\u001b[0m, in \u001b[0;36m_modified_open\u001b[1;34m(file, *args, **kwargs)\u001b[0m\n\u001b[0;32m    279\u001b[0m \u001b[39mif\u001b[39;00m file \u001b[39min\u001b[39;00m {\u001b[39m0\u001b[39m, \u001b[39m1\u001b[39m, \u001b[39m2\u001b[39m}:\n\u001b[0;32m    280\u001b[0m     \u001b[39mraise\u001b[39;00m \u001b[39mValueError\u001b[39;00m(\n\u001b[0;32m    281\u001b[0m         \u001b[39mf\u001b[39m\u001b[39m\"\u001b[39m\u001b[39mIPython won\u001b[39m\u001b[39m'\u001b[39m\u001b[39mt let you open fd=\u001b[39m\u001b[39m{\u001b[39;00mfile\u001b[39m}\u001b[39;00m\u001b[39m by default \u001b[39m\u001b[39m\"\u001b[39m\n\u001b[0;32m    282\u001b[0m         \u001b[39m\"\u001b[39m\u001b[39mas it is likely to crash IPython. If you know what you are doing, \u001b[39m\u001b[39m\"\u001b[39m\n\u001b[0;32m    283\u001b[0m         \u001b[39m\"\u001b[39m\u001b[39myou can use builtins\u001b[39m\u001b[39m'\u001b[39m\u001b[39m open.\u001b[39m\u001b[39m\"\u001b[39m\n\u001b[0;32m    284\u001b[0m     )\n\u001b[1;32m--> 286\u001b[0m \u001b[39mreturn\u001b[39;00m io_open(file, \u001b[39m*\u001b[39;49margs, \u001b[39m*\u001b[39;49m\u001b[39m*\u001b[39;49mkwargs)\n",
            "\u001b[1;31mFileNotFoundError\u001b[0m: [Errno 2] No such file or directory: '/content/alue2087.stp'"
          ]
        }
      ],
      "source": [
        "filename = '/content/alue2087.stp'\n",
        "example_graph = read_stp(filename)\n",
        "print(example_graph)\n",
        "mst_for_example_graph = prim(example_graph)\n",
        "\n",
        "print(\"Minimum Spanning Tree for example_graph:\")\n",
        "if not mst_for_example_graph:\n",
        "    print(\"MST for example_graph is empty.\")\n",
        "else:\n",
        "    print_mst(mst_for_example_graph)"
      ]
    },
    {
      "cell_type": "markdown",
      "metadata": {},
      "source": [
        "Execução em massa das entradas disponibilizadas pelo professor"
      ]
    },
    {
      "cell_type": "code",
      "execution_count": null,
      "metadata": {},
      "outputs": [
        {
          "name": "stdout",
          "output_type": "stream",
          "text": [
            "Collecting pandasNote: you may need to restart the kernel to use updated packages.\n",
            "\n",
            "  Obtaining dependency information for pandas from https://files.pythonhosted.org/packages/2d/5e/9213ea10ac473e2437dc2cb17323ddc0999997e2713d6a0b683b10773994/pandas-2.1.1-cp311-cp311-win_amd64.whl.metadata\n",
            "  Using cached pandas-2.1.1-cp311-cp311-win_amd64.whl.metadata (18 kB)\n",
            "Requirement already satisfied: numpy>=1.23.2 in c:\\python311\\lib\\site-packages (from pandas) (1.26.0)\n",
            "Requirement already satisfied: python-dateutil>=2.8.2 in c:\\users\\ranie\\appdata\\roaming\\python\\python311\\site-packages (from pandas) (2.8.2)\n",
            "Requirement already satisfied: pytz>=2020.1 in c:\\python311\\lib\\site-packages (from pandas) (2023.3.post1)\n",
            "Requirement already satisfied: tzdata>=2022.1 in c:\\python311\\lib\\site-packages (from pandas) (2023.3)\n",
            "Requirement already satisfied: six>=1.5 in c:\\users\\ranie\\appdata\\roaming\\python\\python311\\site-packages (from python-dateutil>=2.8.2->pandas) (1.16.0)\n",
            "Using cached pandas-2.1.1-cp311-cp311-win_amd64.whl (10.6 MB)\n",
            "Installing collected packages: pandas\n",
            "Successfully installed pandas-2.1.1\n"
          ]
        }
      ],
      "source": [
        "%pip install pandas\n",
        "import pandas as pd"
      ]
    },
    {
      "cell_type": "code",
      "execution_count": 84,
      "metadata": {},
      "outputs": [
        {
          "name": "stdout",
          "output_type": "stream",
          "text": [
            "C:/Users/ranie/Documents/GitHub/Topicos-II-Primeiro-Trabalho/Arvore-Geradora-Minima/Dados/ALUE/alue2087.stp\n",
            "True\n",
            "C:\\Users\\ranie\\Documents\\GitHub\\Topicos-II-Primeiro-Trabalho\\Arvore-Geradora-Minima\\Dados\\ALUE\\alue2087.stp\n"
          ]
        },
        {
          "ename": "TypeError",
          "evalue": "DataFrame.insert() missing 2 required positional arguments: 'column' and 'value'",
          "output_type": "error",
          "traceback": [
            "\u001b[1;31m---------------------------------------------------------------------------\u001b[0m",
            "\u001b[1;31mTypeError\u001b[0m                                 Traceback (most recent call last)",
            "\u001b[1;32mc:\\Users\\ranie\\Documents\\GitHub\\Topicos-II-Primeiro-Trabalho\\Arvore-Geradora-Minima\\Arvore-Binaria\\arvore_binaria_sem_balanceamento.ipynb Célula 13\u001b[0m line \u001b[0;36m1\n\u001b[0;32m     <a href='vscode-notebook-cell:/c%3A/Users/ranie/Documents/GitHub/Topicos-II-Primeiro-Trabalho/Arvore-Geradora-Minima/Arvore-Binaria/arvore_binaria_sem_balanceamento.ipynb#X13sZmlsZQ%3D%3D?line=16'>17</a>\u001b[0m total_mem_used \u001b[39m=\u001b[39m total_mem_used \u001b[39m+\u001b[39m total_mem_used_aux\n\u001b[0;32m     <a href='vscode-notebook-cell:/c%3A/Users/ranie/Documents/GitHub/Topicos-II-Primeiro-Trabalho/Arvore-Geradora-Minima/Arvore-Binaria/arvore_binaria_sem_balanceamento.ipynb#X13sZmlsZQ%3D%3D?line=17'>18</a>\u001b[0m new_row \u001b[39m=\u001b[39m {\u001b[39m'\u001b[39m\u001b[39mgraph\u001b[39m\u001b[39m'\u001b[39m: path, \u001b[39m'\u001b[39m\u001b[39mmem_used\u001b[39m\u001b[39m'\u001b[39m: total_mem_used_aux}\n\u001b[1;32m---> <a href='vscode-notebook-cell:/c%3A/Users/ranie/Documents/GitHub/Topicos-II-Primeiro-Trabalho/Arvore-Geradora-Minima/Arvore-Binaria/arvore_binaria_sem_balanceamento.ipynb#X13sZmlsZQ%3D%3D?line=18'>19</a>\u001b[0m mem_used_per_graph \u001b[39m=\u001b[39m mem_used_per_graph\u001b[39m.\u001b[39;49minsert(new_row)\n\u001b[0;32m     <a href='vscode-notebook-cell:/c%3A/Users/ranie/Documents/GitHub/Topicos-II-Primeiro-Trabalho/Arvore-Geradora-Minima/Arvore-Binaria/arvore_binaria_sem_balanceamento.ipynb#X13sZmlsZQ%3D%3D?line=19'>20</a>\u001b[0m \u001b[39mprint\u001b[39m(\u001b[39m\"\u001b[39m\u001b[39mMinimum Spanning Tree for current_graph:\u001b[39m\u001b[39m\"\u001b[39m)\n\u001b[0;32m     <a href='vscode-notebook-cell:/c%3A/Users/ranie/Documents/GitHub/Topicos-II-Primeiro-Trabalho/Arvore-Geradora-Minima/Arvore-Binaria/arvore_binaria_sem_balanceamento.ipynb#X13sZmlsZQ%3D%3D?line=20'>21</a>\u001b[0m \u001b[39mif\u001b[39;00m \u001b[39mnot\u001b[39;00m mst_for_current_graph:\n",
            "\u001b[1;31mTypeError\u001b[0m: DataFrame.insert() missing 2 required positional arguments: 'column' and 'value'"
          ]
        }
      ],
      "source": [
        "# Armazenar cada grafo (um por arquivo) em uma lista\n",
        "\n",
        "grafosEntradaPaths = ['C:/Users/ranie/Documents/GitHub/Topicos-II-Primeiro-Trabalho/Arvore-Geradora-Minima/Dados/ALUE/alue2087.stp', 'C:/Users/ranie/Documents/GitHub/Topicos-II-Primeiro-Trabalho/Arvore-Geradora-Minima/Dados/ALUE/alue2105.stp', 'C:/Users/ranie/Documents/GitHub/Topicos-II-Primeiro-Trabalho/Arvore-Geradora-Minima/Dados/ALUE/alue3146.stp', 'C:/Users/ranie/Documents/GitHub/Topicos-II-Primeiro-Trabalho/Arvore-Geradora-Minima/Dados/ALUE/alue5067.stp', 'C:/Users/ranie/Documents/GitHub/Topicos-II-Primeiro-Trabalho/Arvore-Geradora-Minima/Dados/ALUE/alue5345.stp', 'C:/Users/ranie/Documents/GitHub/Topicos-II-Primeiro-Trabalho/Arvore-Geradora-Minima/Dados/ALUE/alue5623.stp', 'C:/Users/ranie/Documents/GitHub/Topicos-II-Primeiro-Trabalho/Arvore-Geradora-Minima/Dados/ALUE/alue5901.stp', 'C:/Users/ranie/Documents/GitHub/Topicos-II-Primeiro-Trabalho/Arvore-Geradora-Minima/Dados/ALUE/alue6179.stp', 'C:/Users/ranie/Documents/GitHub/Topicos-II-Primeiro-Trabalho/Arvore-Geradora-Minima/Dados/ALUE/alue6457.stp', 'C:/Users/ranie/Documents/GitHub/Topicos-II-Primeiro-Trabalho/Arvore-Geradora-Minima/Dados/ALUE/alue6735.stp', 'C:/Users/ranie/Documents/GitHub/Topicos-II-Primeiro-Trabalho/Arvore-Geradora-Minima/Dados/ALUE/alue6951.stp', 'C:/Users/ranie/Documents/GitHub/Topicos-II-Primeiro-Trabalho/Arvore-Geradora-Minima/Dados/ALUE/alue7065.stp', 'C:/Users/ranie/Documents/GitHub/Topicos-II-Primeiro-Trabalho/Arvore-Geradora-Minima/Dados/ALUE/alue7066.stp', 'C:/Users/ranie/Documents/GitHub/Topicos-II-Primeiro-Trabalho/Arvore-Geradora-Minima/Dados/ALUE/alue7080.stp', 'C:/Users/ranie/Documents/GitHub/Topicos-II-Primeiro-Trabalho/Arvore-Geradora-Minima/Dados/ALUE/alue7229.stp']\n",
        "\n",
        "total_mem_used = 0;\n",
        "mem_used_per_graph = pd.DataFrame(columns=['graph', 'mem_used'])\n",
        "\n",
        "for path in grafosEntradaPaths:\n",
        "  print(path)\n",
        "  print(os.path.isfile(path))\n",
        "  #convert windows path with os path\n",
        "  path = os.path.normpath(path)\n",
        "  print(path)\n",
        "  \n",
        "  current_graph = read_stp(path)\n",
        "  mst_for_current_graph, total_mem_used_aux = prim(current_graph)\n",
        "  total_mem_used = total_mem_used + total_mem_used_aux\n",
        "  new_row = {'graph': path, 'mem_used': total_mem_used_aux}\n",
        "  mem_used_per_graph = df.concat([mem_used_per_graph, new_row])\n",
        "\n",
        "  mem_used_per_graph = mem_used_per_graph.\n",
        "  print(\"Minimum Spanning Tree for current_graph:\")\n",
        "  if not mst_for_current_graph:\n",
        "      print(\"MST for current_graph is empty.\")\n",
        "  else:\n",
        "      print_mst(mst_for_current_graph)\n",
        "\n",
        "print(\"Total memory used: \", total_mem_used)"
      ]
    },
    {
      "cell_type": "code",
      "execution_count": null,
      "metadata": {},
      "outputs": [
        {
          "name": "stdout",
          "output_type": "stream",
          "text": [
            "Requirement already satisfied: pip in c:\\python311\\lib\\site-packages (23.2.1)\n",
            "Note: you may need to restart the kernel to use updated packages.\n",
            "Collecting matplotlib\n",
            "  Obtaining dependency information for matplotlib from https://files.pythonhosted.org/packages/40/d9/c1784db9db0d484c8e5deeafbaac0d6ed66e165c6eb4a74fb43a5fa947d9/matplotlib-3.8.0-cp311-cp311-win_amd64.whl.metadata\n",
            "  Using cached matplotlib-3.8.0-cp311-cp311-win_amd64.whl.metadata (5.9 kB)\n",
            "Collecting contourpy>=1.0.1 (from matplotlib)\n",
            "  Obtaining dependency information for contourpy>=1.0.1 from https://files.pythonhosted.org/packages/e5/76/94bc17eb868f8c7397f8fdfdeae7661c1b9a35f3a7219da308596e8c252a/contourpy-1.1.1-cp311-cp311-win_amd64.whl.metadata\n",
            "  Using cached contourpy-1.1.1-cp311-cp311-win_amd64.whl.metadata (5.9 kB)\n",
            "Collecting cycler>=0.10 (from matplotlib)\n",
            "  Obtaining dependency information for cycler>=0.10 from https://files.pythonhosted.org/packages/2b/b3/70c33027c4918c10ccf176014b38f8b91cb18ac018a78854543a4fc72609/cycler-0.12.0-py3-none-any.whl.metadata\n",
            "  Using cached cycler-0.12.0-py3-none-any.whl.metadata (3.8 kB)\n",
            "Requirement already satisfied: fonttools>=4.22.0 in c:\\python311\\lib\\site-packages (from matplotlib) (4.43.0)\n",
            "Requirement already satisfied: kiwisolver>=1.0.1 in c:\\python311\\lib\\site-packages (from matplotlib) (1.4.5)\n",
            "Requirement already satisfied: numpy<2,>=1.21 in c:\\python311\\lib\\site-packages (from matplotlib) (1.26.0)\n",
            "Requirement already satisfied: packaging>=20.0 in c:\\users\\ranie\\appdata\\roaming\\python\\python311\\site-packages (from matplotlib) (23.2)\n",
            "Requirement already satisfied: pillow>=6.2.0 in c:\\python311\\lib\\site-packages (from matplotlib) (10.0.1)\n",
            "Requirement already satisfied: pyparsing>=2.3.1 in c:\\python311\\lib\\site-packages (from matplotlib) (3.1.1)\n",
            "Requirement already satisfied: python-dateutil>=2.7 in c:\\users\\ranie\\appdata\\roaming\\python\\python311\\site-packages (from matplotlib) (2.8.2)\n",
            "Requirement already satisfied: six>=1.5 in c:\\users\\ranie\\appdata\\roaming\\python\\python311\\site-packages (from python-dateutil>=2.7->matplotlib) (1.16.0)\n",
            "Using cached matplotlib-3.8.0-cp311-cp311-win_amd64.whl (7.6 MB)\n",
            "Using cached contourpy-1.1.1-cp311-cp311-win_amd64.whl (480 kB)\n",
            "Using cached cycler-0.12.0-py3-none-any.whl (8.2 kB)\n",
            "Installing collected packages: cycler, contourpy, matplotlib\n",
            "Successfully installed contourpy-1.1.1 cycler-0.12.0 matplotlib-3.8.0\n",
            "Note: you may need to restart the kernel to use updated packages.\n"
          ]
        }
      ],
      "source": [
        "%pip install -U pip\n",
        "%pip install -U matplotlib\n",
        "import matplotlib.pyplot as plt"
      ]
    },
    {
      "cell_type": "code",
      "execution_count": 73,
      "metadata": {},
      "outputs": [
        {
          "data": {
            "text/html": [
              "<div>\n",
              "<style scoped>\n",
              "    .dataframe tbody tr th:only-of-type {\n",
              "        vertical-align: middle;\n",
              "    }\n",
              "\n",
              "    .dataframe tbody tr th {\n",
              "        vertical-align: top;\n",
              "    }\n",
              "\n",
              "    .dataframe thead th {\n",
              "        text-align: right;\n",
              "    }\n",
              "</style>\n",
              "<table border=\"1\" class=\"dataframe\">\n",
              "  <thead>\n",
              "    <tr style=\"text-align: right;\">\n",
              "      <th></th>\n",
              "      <th>graph</th>\n",
              "      <th>mem_used</th>\n",
              "    </tr>\n",
              "  </thead>\n",
              "  <tbody>\n",
              "    <tr>\n",
              "      <th>count</th>\n",
              "      <td>0</td>\n",
              "      <td>0</td>\n",
              "    </tr>\n",
              "    <tr>\n",
              "      <th>unique</th>\n",
              "      <td>0</td>\n",
              "      <td>0</td>\n",
              "    </tr>\n",
              "    <tr>\n",
              "      <th>top</th>\n",
              "      <td>NaN</td>\n",
              "      <td>NaN</td>\n",
              "    </tr>\n",
              "    <tr>\n",
              "      <th>freq</th>\n",
              "      <td>NaN</td>\n",
              "      <td>NaN</td>\n",
              "    </tr>\n",
              "  </tbody>\n",
              "</table>\n",
              "</div>"
            ],
            "text/plain": [
              "       graph mem_used\n",
              "count      0        0\n",
              "unique     0        0\n",
              "top      NaN      NaN\n",
              "freq     NaN      NaN"
            ]
          },
          "execution_count": 73,
          "metadata": {},
          "output_type": "execute_result"
        }
      ],
      "source": [
        "mem_used_per_graph.describe()"
      ]
    },
    {
      "cell_type": "code",
      "execution_count": 74,
      "metadata": {},
      "outputs": [
        {
          "data": {
            "image/png": "[encoded data removed]",
            "text/plain": [
              "<Figure size 640x480 with 1 Axes>"
            ]
          },
          "metadata": {},
          "output_type": "display_data"
        },
        {
          "data": {
            "image/png": "[encoded data removed]",
            "text/plain": [
              "<Figure size 640x480 with 1 Axes>"
            ]
          },
          "metadata": {},
          "output_type": "display_data"
        }
      ],
      "source": [
        "#Tempo\n",
        "plt.yscale('log')\n",
        "plt.plot(mem_used_per_graph)\n",
        "plt.show()\n",
        "\n",
        "#Memória\n",
        "plt.yscale('log')\n",
        "plt.plot(mem_used_per_graph)\n",
        "plt.show()"
      ]
    }
  ],
  "metadata": {
    "colab": {
      "provenance": []
    },
    "kernelspec": {
      "display_name": "Python 3",
      "name": "python3"
    },
    "language_info": {
      "codemirror_mode": {
        "name": "ipython",
        "version": 3
      },
      "file_extension": ".py",
      "mimetype": "text/x-python",
      "name": "python",
      "nbconvert_exporter": "python",
      "pygments_lexer": "ipython3",
      "version": "3.11.5"
    }
  },
  "nbformat": 4,
  "nbformat_minor": 0
}
